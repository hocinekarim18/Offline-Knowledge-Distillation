{
  "nbformat": 4,
  "nbformat_minor": 0,
  "metadata": {
    "colab": {
      "name": "MobileNet_as_Teacheripynb",
      "provenance": [],
      "collapsed_sections": []
    },
    "kernelspec": {
      "name": "python3",
      "display_name": "Python 3"
    },
    "language_info": {
      "name": "python"
    },
    "accelerator": "GPU"
  },
  "cells": [
    {
      "cell_type": "code",
      "execution_count": 1,
      "metadata": {
        "id": "XZAjA4RqoZzx"
      },
      "outputs": [],
      "source": [
        "import tensorflow as tf\n",
        "import numpy as np\n",
        "import matplotlib.pyplot as plt\n",
        "from PIL import Image\n",
        "\n",
        "%matplotlib inline"
      ]
    },
    {
      "cell_type": "markdown",
      "source": [
        "## Distillation Class"
      ],
      "metadata": {
        "id": "FeejPH1Nowx0"
      }
    },
    {
      "cell_type": "code",
      "source": [
        "class Distiller(tf.keras.Model):\n",
        "  def __init__(self, teacher, student):\n",
        "      super(Distiller, self).__init__()\n",
        "      \n",
        "      # Attributs de la classe Distiller\n",
        "      self.teacher = teacher\n",
        "      self.student = student\n",
        "      \n",
        "  # Compilation du model\n",
        "  def compile( self, optimizer, metrics, distillation_loss_fn, student_loss_fn, alpha = 0.1, temperature= 20):\n",
        "\n",
        "    super(Distiller,self).compile(optimizer = optimizer, metrics= metrics )\n",
        "    # losses\n",
        "    self.distillation_loss_fn = distillation_loss_fn\n",
        "    self.student_loss_fn = student_loss_fn\n",
        "\n",
        "    # Hyperparameters\n",
        "    self.temperature = temperature\n",
        "    self.alpha = alpha\n",
        "  \n",
        "  # Training Step\n",
        "  def train_step(self, data):\n",
        "    # Unpack data\n",
        "    x, y = data\n",
        "\n",
        "    # Forward pass of teacher\n",
        "    teacher_predictions = self.teacher(x, training=False)\n",
        "    with tf.GradientTape() as tape:\n",
        "      # student forward\n",
        "      student_predictions = self.student(x, training= True)\n",
        "\n",
        "      # Compute losses\n",
        "      student_loss = self.student_loss_fn(y, student_predictions)\n",
        "      distillation_loss = self.distillation_loss_fn(\n",
        "          tf.nn.softmax(teacher_predictions / self.temperature, axis=1),\n",
        "          tf.nn.softmax(student_predictions / self.temperature, axis=1),\n",
        "        )\n",
        "\n",
        "      loss = self.alpha * student_loss + (1 - self.alpha) * distillation_loss\n",
        "\n",
        "    # Compute gradients\n",
        "    trainable_vars = self.student.trainable_variables\n",
        "    gradients = tape.gradient(loss, trainable_vars)\n",
        "\n",
        "    # Update weights\n",
        "    self.optimizer.apply_gradients(zip(gradients, trainable_vars))\n",
        "\n",
        "    # Update the metrics configured in `compile()`.\n",
        "    self.compiled_metrics.update_state(y, student_predictions)\n",
        "\n",
        "    # Return a dict of performance\n",
        "    results = {m.name: m.result() for m in self.metrics}\n",
        "    results.update(\n",
        "        {\"student_loss\": student_loss, \"distillation_loss\": distillation_loss}\n",
        "    )\n",
        "    return results\n",
        "\n",
        "  # Test Step\n",
        "  def test_step(self, data):\n",
        "    \n",
        "    # Unpack the data\n",
        "    x, y = data\n",
        "\n",
        "    # Compute predictions\n",
        "    y_prediction = self.student(x, training=False)\n",
        "\n",
        "    # Calculate the loss\n",
        "    student_loss = self.student_loss_fn(y, y_prediction)\n",
        "\n",
        "    # Update the metrics.\n",
        "    self.compiled_metrics.update_state(y, y_prediction)\n",
        "\n",
        "    # Return a dict of performance\n",
        "    results = {m.name: m.result() for m in self.metrics}\n",
        "    results.update({\"student_loss\": student_loss})\n",
        "    return results\n"
      ],
      "metadata": {
        "id": "sHp224_PokGu"
      },
      "execution_count": 2,
      "outputs": []
    },
    {
      "cell_type": "markdown",
      "source": [
        "## Ploting history fonction"
      ],
      "metadata": {
        "id": "0mnRH_1FotB-"
      }
    },
    {
      "cell_type": "code",
      "source": [
        "def plot_hist(los1,los2, accur1, accur2):\n",
        "  plt.figure(figsize= (20,7))\n",
        "  plt.subplot(121)\n",
        "  plt.plot(accur1, label='KD Accuracy')\n",
        "  plt.plot(accur2, label= 'Scratch Accuracy')\n",
        "\n",
        "  plt.xlabel('Epochs')\n",
        "  plt.ylabel('Accuracy')\n",
        "  plt.grid()\n",
        "  plt.legend()\n",
        "\n",
        "\n",
        "  plt.subplot(122)\n",
        "  plt.plot(los1, label='KD Loss')\n",
        "  plt.plot(los2,  label= 'Scratch Loss')\n",
        "  plt.xlabel('Epochs')\n",
        "  plt.ylabel('Loss')\n",
        "\n",
        "  plt.grid()\n",
        "  plt.legend()\n",
        "  plt.show()\n"
      ],
      "metadata": {
        "id": "gHg6sicTooTT"
      },
      "execution_count": 3,
      "outputs": []
    },
    {
      "cell_type": "markdown",
      "source": [
        "## Loading and processing Data"
      ],
      "metadata": {
        "id": "ww7QWLC_ozrQ"
      }
    },
    {
      "cell_type": "code",
      "source": [
        "# Data loading\n",
        "(x_train, y_train) , (x_test, y_test)= tf.keras.datasets.mnist.load_data()\n",
        "\n",
        "# Normalize data\n",
        "x_train = x_train.astype(\"float32\") / 255.0\n",
        "x_test = x_test.astype(\"float32\") / 255.0\n",
        "\n",
        "print(\"Dimensions des données\")\n",
        "print(\"X_train shape: \", x_train.shape)\n",
        "print(\"X_test shape: \", x_test.shape)\n",
        "print(\"y_train shape: \", y_train.shape)\n",
        "print(\"y_test shape: \", y_test.shape)"
      ],
      "metadata": {
        "colab": {
          "base_uri": "https://localhost:8080/"
        },
        "id": "5qPAdXvQo5Lv",
        "outputId": "c150a21f-7ff9-463c-9cdf-6c74d0d04c74"
      },
      "execution_count": 4,
      "outputs": [
        {
          "output_type": "stream",
          "name": "stdout",
          "text": [
            "Downloading data from https://storage.googleapis.com/tensorflow/tf-keras-datasets/mnist.npz\n",
            "11493376/11490434 [==============================] - 0s 0us/step\n",
            "11501568/11490434 [==============================] - 0s 0us/step\n",
            "Dimensions des données\n",
            "X_train shape:  (60000, 28, 28)\n",
            "X_test shape:  (10000, 28, 28)\n",
            "y_train shape:  (60000,)\n",
            "y_test shape:  (10000,)\n"
          ]
        }
      ]
    },
    {
      "cell_type": "code",
      "source": [
        "#Padding des images pour correspondre aux données du mobilenet\n",
        "def im_padding(x_train, x_test, pad = 2):\n",
        "  x = np.zeros((x_train.shape[0], x_train.shape[1]+2*pad, x_train.shape[1]+ 2*pad ))\n",
        "  x_t = np.zeros((x_test.shape[0], x_test.shape[1]+2*pad, x_test.shape[1]+ 2*pad ))\n",
        "\n",
        "  for d in range(len(x)):\n",
        "    x[d] = np.pad(x_train[d], pad )\n",
        "    if d < len(x_t):\n",
        "      x_t[d] = np.pad(x_test[d], pad )\n",
        "\n",
        "  return x, x_t\n",
        "\n",
        "#========================================\n",
        "x_train, x_test = im_padding(x_train, x_test, pad = 2)\n",
        "\n",
        "x_train = np.reshape(x_train, (-1, 32, 32, 1))\n",
        "x_test = np.reshape(x_test, (-1, 32, 32, 1))\n",
        "print(\"Dimensions des données après padding\")\n",
        "print(\"X_train shape: \", x_train.shape)\n",
        "print(\"X_test shape: \", x_test.shape)"
      ],
      "metadata": {
        "colab": {
          "base_uri": "https://localhost:8080/"
        },
        "id": "q8sAsTU5pBcb",
        "outputId": "338ff119-2fd7-4d7c-9d86-373f42cf81b5"
      },
      "execution_count": 5,
      "outputs": [
        {
          "output_type": "stream",
          "name": "stdout",
          "text": [
            "Dimensions des données après padding\n",
            "X_train shape:  (60000, 32, 32, 1)\n",
            "X_test shape:  (10000, 32, 32, 1)\n"
          ]
        }
      ]
    },
    {
      "cell_type": "code",
      "source": [
        "def im_concate(x_train, x_test):\n",
        "  x = np.zeros((x_train.shape[0], 32, 32, 3 ))\n",
        "  x_t = np.zeros((x_test.shape[0], 32,32, 3 ))\n",
        "  for d in range(len(x)):\n",
        "    x[d] = np.concatenate([x_train[d], x_train[d], x_train[d]],axis=2 )\n",
        "    if d < len(x_t):\n",
        "      x_t[d] = np.concatenate([x_test[d], x_test[d], x_test[d]],axis=2 )\n",
        "\n",
        "  return x, x_t\n",
        "\n",
        "#======================================\n",
        "x_train, x_test = im_concate(x_train, x_test)\n",
        "\n",
        "print(\"Dimensions des données après concatenation\")\n",
        "print(\"X_train shape: \", x_train.shape)\n",
        "print(\"X_test shape: \", x_test.shape)"
      ],
      "metadata": {
        "colab": {
          "base_uri": "https://localhost:8080/"
        },
        "id": "kWrFwasKpLWy",
        "outputId": "a888413f-d7a7-462d-cc9a-f5f1bd0c11e8"
      },
      "execution_count": 6,
      "outputs": [
        {
          "output_type": "stream",
          "name": "stdout",
          "text": [
            "Dimensions des données après concatenation\n",
            "X_train shape:  (60000, 32, 32, 3)\n",
            "X_test shape:  (10000, 32, 32, 3)\n"
          ]
        }
      ]
    },
    {
      "cell_type": "markdown",
      "source": [
        "## Loading MobileNet"
      ],
      "metadata": {
        "id": "GMdRh1W0o6qw"
      }
    },
    {
      "cell_type": "code",
      "source": [
        "base_model = tf.keras.applications.mobilenet.MobileNet(\n",
        "    input_shape=(32,32, 3), alpha=1.0, depth_multiplier=1, dropout=0.001,\n",
        "    include_top=False, weights=None, input_tensor=None, pooling=None,\n",
        "    classes=10, classifier_activation='softmax')\n",
        "\n",
        "x = base_model.output\n",
        "x = tf.keras.layers.Flatten()(x)\n",
        "output = tf.keras.layers.Dense(10, activation=\"softmax\")(x)\n",
        "\n",
        "\n",
        "teacher = tf.keras.Model(inputs=base_model.input, outputs=output)\n"
      ],
      "metadata": {
        "id": "_H77Qpo2o8zR"
      },
      "execution_count": 25,
      "outputs": []
    },
    {
      "cell_type": "markdown",
      "source": [
        "## Training MobileNet on Mnist Data"
      ],
      "metadata": {
        "id": "l3FT432HpXZr"
      }
    },
    {
      "cell_type": "code",
      "source": [
        "Epochs = 10\n",
        "Batch = 64"
      ],
      "metadata": {
        "id": "1JGcS_E4rB8I"
      },
      "execution_count": 26,
      "outputs": []
    },
    {
      "cell_type": "code",
      "source": [
        "# Train teacher as usual\n",
        "teacher.compile(\n",
        "    optimizer=tf.keras.optimizers.Adam(),\n",
        "    loss=tf.keras.losses.SparseCategoricalCrossentropy(from_logits=True),\n",
        "    metrics=[tf.keras.metrics.SparseCategoricalAccuracy()],\n",
        ")\n",
        "teacher.summary()\n",
        "\n",
        "# Train and evaluate teacher on data.\n",
        "Teacher_hist = teacher.fit(x_train, y_train, epochs=Epochs, batch_size = Batch)\n",
        "teacher.evaluate(x_test, y_test)"
      ],
      "metadata": {
        "colab": {
          "base_uri": "https://localhost:8080/"
        },
        "id": "HNlOPpFDpXJN",
        "outputId": "63d1419e-8fb6-4470-c22b-f94eacdb6ae1"
      },
      "execution_count": 27,
      "outputs": [
        {
          "output_type": "stream",
          "name": "stdout",
          "text": [
            "Model: \"model_2\"\n",
            "_________________________________________________________________\n",
            " Layer (type)                Output Shape              Param #   \n",
            "=================================================================\n",
            " input_5 (InputLayer)        [(None, 32, 32, 3)]       0         \n",
            "                                                                 \n",
            " conv1 (Conv2D)              (None, 16, 16, 32)        864       \n",
            "                                                                 \n",
            " conv1_bn (BatchNormalizatio  (None, 16, 16, 32)       128       \n",
            " n)                                                              \n",
            "                                                                 \n",
            " conv1_relu (ReLU)           (None, 16, 16, 32)        0         \n",
            "                                                                 \n",
            " conv_dw_1 (DepthwiseConv2D)  (None, 16, 16, 32)       288       \n",
            "                                                                 \n",
            " conv_dw_1_bn (BatchNormaliz  (None, 16, 16, 32)       128       \n",
            " ation)                                                          \n",
            "                                                                 \n",
            " conv_dw_1_relu (ReLU)       (None, 16, 16, 32)        0         \n",
            "                                                                 \n",
            " conv_pw_1 (Conv2D)          (None, 16, 16, 64)        2048      \n",
            "                                                                 \n",
            " conv_pw_1_bn (BatchNormaliz  (None, 16, 16, 64)       256       \n",
            " ation)                                                          \n",
            "                                                                 \n",
            " conv_pw_1_relu (ReLU)       (None, 16, 16, 64)        0         \n",
            "                                                                 \n",
            " conv_pad_2 (ZeroPadding2D)  (None, 17, 17, 64)        0         \n",
            "                                                                 \n",
            " conv_dw_2 (DepthwiseConv2D)  (None, 8, 8, 64)         576       \n",
            "                                                                 \n",
            " conv_dw_2_bn (BatchNormaliz  (None, 8, 8, 64)         256       \n",
            " ation)                                                          \n",
            "                                                                 \n",
            " conv_dw_2_relu (ReLU)       (None, 8, 8, 64)          0         \n",
            "                                                                 \n",
            " conv_pw_2 (Conv2D)          (None, 8, 8, 128)         8192      \n",
            "                                                                 \n",
            " conv_pw_2_bn (BatchNormaliz  (None, 8, 8, 128)        512       \n",
            " ation)                                                          \n",
            "                                                                 \n",
            " conv_pw_2_relu (ReLU)       (None, 8, 8, 128)         0         \n",
            "                                                                 \n",
            " conv_dw_3 (DepthwiseConv2D)  (None, 8, 8, 128)        1152      \n",
            "                                                                 \n",
            " conv_dw_3_bn (BatchNormaliz  (None, 8, 8, 128)        512       \n",
            " ation)                                                          \n",
            "                                                                 \n",
            " conv_dw_3_relu (ReLU)       (None, 8, 8, 128)         0         \n",
            "                                                                 \n",
            " conv_pw_3 (Conv2D)          (None, 8, 8, 128)         16384     \n",
            "                                                                 \n",
            " conv_pw_3_bn (BatchNormaliz  (None, 8, 8, 128)        512       \n",
            " ation)                                                          \n",
            "                                                                 \n",
            " conv_pw_3_relu (ReLU)       (None, 8, 8, 128)         0         \n",
            "                                                                 \n",
            " conv_pad_4 (ZeroPadding2D)  (None, 9, 9, 128)         0         \n",
            "                                                                 \n",
            " conv_dw_4 (DepthwiseConv2D)  (None, 4, 4, 128)        1152      \n",
            "                                                                 \n",
            " conv_dw_4_bn (BatchNormaliz  (None, 4, 4, 128)        512       \n",
            " ation)                                                          \n",
            "                                                                 \n",
            " conv_dw_4_relu (ReLU)       (None, 4, 4, 128)         0         \n",
            "                                                                 \n",
            " conv_pw_4 (Conv2D)          (None, 4, 4, 256)         32768     \n",
            "                                                                 \n",
            " conv_pw_4_bn (BatchNormaliz  (None, 4, 4, 256)        1024      \n",
            " ation)                                                          \n",
            "                                                                 \n",
            " conv_pw_4_relu (ReLU)       (None, 4, 4, 256)         0         \n",
            "                                                                 \n",
            " conv_dw_5 (DepthwiseConv2D)  (None, 4, 4, 256)        2304      \n",
            "                                                                 \n",
            " conv_dw_5_bn (BatchNormaliz  (None, 4, 4, 256)        1024      \n",
            " ation)                                                          \n",
            "                                                                 \n",
            " conv_dw_5_relu (ReLU)       (None, 4, 4, 256)         0         \n",
            "                                                                 \n",
            " conv_pw_5 (Conv2D)          (None, 4, 4, 256)         65536     \n",
            "                                                                 \n",
            " conv_pw_5_bn (BatchNormaliz  (None, 4, 4, 256)        1024      \n",
            " ation)                                                          \n",
            "                                                                 \n",
            " conv_pw_5_relu (ReLU)       (None, 4, 4, 256)         0         \n",
            "                                                                 \n",
            " conv_pad_6 (ZeroPadding2D)  (None, 5, 5, 256)         0         \n",
            "                                                                 \n",
            " conv_dw_6 (DepthwiseConv2D)  (None, 2, 2, 256)        2304      \n",
            "                                                                 \n",
            " conv_dw_6_bn (BatchNormaliz  (None, 2, 2, 256)        1024      \n",
            " ation)                                                          \n",
            "                                                                 \n",
            " conv_dw_6_relu (ReLU)       (None, 2, 2, 256)         0         \n",
            "                                                                 \n",
            " conv_pw_6 (Conv2D)          (None, 2, 2, 512)         131072    \n",
            "                                                                 \n",
            " conv_pw_6_bn (BatchNormaliz  (None, 2, 2, 512)        2048      \n",
            " ation)                                                          \n",
            "                                                                 \n",
            " conv_pw_6_relu (ReLU)       (None, 2, 2, 512)         0         \n",
            "                                                                 \n",
            " conv_dw_7 (DepthwiseConv2D)  (None, 2, 2, 512)        4608      \n",
            "                                                                 \n",
            " conv_dw_7_bn (BatchNormaliz  (None, 2, 2, 512)        2048      \n",
            " ation)                                                          \n",
            "                                                                 \n",
            " conv_dw_7_relu (ReLU)       (None, 2, 2, 512)         0         \n",
            "                                                                 \n",
            " conv_pw_7 (Conv2D)          (None, 2, 2, 512)         262144    \n",
            "                                                                 \n",
            " conv_pw_7_bn (BatchNormaliz  (None, 2, 2, 512)        2048      \n",
            " ation)                                                          \n",
            "                                                                 \n",
            " conv_pw_7_relu (ReLU)       (None, 2, 2, 512)         0         \n",
            "                                                                 \n",
            " conv_dw_8 (DepthwiseConv2D)  (None, 2, 2, 512)        4608      \n",
            "                                                                 \n",
            " conv_dw_8_bn (BatchNormaliz  (None, 2, 2, 512)        2048      \n",
            " ation)                                                          \n",
            "                                                                 \n",
            " conv_dw_8_relu (ReLU)       (None, 2, 2, 512)         0         \n",
            "                                                                 \n",
            " conv_pw_8 (Conv2D)          (None, 2, 2, 512)         262144    \n",
            "                                                                 \n",
            " conv_pw_8_bn (BatchNormaliz  (None, 2, 2, 512)        2048      \n",
            " ation)                                                          \n",
            "                                                                 \n",
            " conv_pw_8_relu (ReLU)       (None, 2, 2, 512)         0         \n",
            "                                                                 \n",
            " conv_dw_9 (DepthwiseConv2D)  (None, 2, 2, 512)        4608      \n",
            "                                                                 \n",
            " conv_dw_9_bn (BatchNormaliz  (None, 2, 2, 512)        2048      \n",
            " ation)                                                          \n",
            "                                                                 \n",
            " conv_dw_9_relu (ReLU)       (None, 2, 2, 512)         0         \n",
            "                                                                 \n",
            " conv_pw_9 (Conv2D)          (None, 2, 2, 512)         262144    \n",
            "                                                                 \n",
            " conv_pw_9_bn (BatchNormaliz  (None, 2, 2, 512)        2048      \n",
            " ation)                                                          \n",
            "                                                                 \n",
            " conv_pw_9_relu (ReLU)       (None, 2, 2, 512)         0         \n",
            "                                                                 \n",
            " conv_dw_10 (DepthwiseConv2D  (None, 2, 2, 512)        4608      \n",
            " )                                                               \n",
            "                                                                 \n",
            " conv_dw_10_bn (BatchNormali  (None, 2, 2, 512)        2048      \n",
            " zation)                                                         \n",
            "                                                                 \n",
            " conv_dw_10_relu (ReLU)      (None, 2, 2, 512)         0         \n",
            "                                                                 \n",
            " conv_pw_10 (Conv2D)         (None, 2, 2, 512)         262144    \n",
            "                                                                 \n",
            " conv_pw_10_bn (BatchNormali  (None, 2, 2, 512)        2048      \n",
            " zation)                                                         \n",
            "                                                                 \n",
            " conv_pw_10_relu (ReLU)      (None, 2, 2, 512)         0         \n",
            "                                                                 \n",
            " conv_dw_11 (DepthwiseConv2D  (None, 2, 2, 512)        4608      \n",
            " )                                                               \n",
            "                                                                 \n",
            " conv_dw_11_bn (BatchNormali  (None, 2, 2, 512)        2048      \n",
            " zation)                                                         \n",
            "                                                                 \n",
            " conv_dw_11_relu (ReLU)      (None, 2, 2, 512)         0         \n",
            "                                                                 \n",
            " conv_pw_11 (Conv2D)         (None, 2, 2, 512)         262144    \n",
            "                                                                 \n",
            " conv_pw_11_bn (BatchNormali  (None, 2, 2, 512)        2048      \n",
            " zation)                                                         \n",
            "                                                                 \n",
            " conv_pw_11_relu (ReLU)      (None, 2, 2, 512)         0         \n",
            "                                                                 \n",
            " conv_pad_12 (ZeroPadding2D)  (None, 3, 3, 512)        0         \n",
            "                                                                 \n",
            " conv_dw_12 (DepthwiseConv2D  (None, 1, 1, 512)        4608      \n",
            " )                                                               \n",
            "                                                                 \n",
            " conv_dw_12_bn (BatchNormali  (None, 1, 1, 512)        2048      \n",
            " zation)                                                         \n",
            "                                                                 \n",
            " conv_dw_12_relu (ReLU)      (None, 1, 1, 512)         0         \n",
            "                                                                 \n",
            " conv_pw_12 (Conv2D)         (None, 1, 1, 1024)        524288    \n",
            "                                                                 \n",
            " conv_pw_12_bn (BatchNormali  (None, 1, 1, 1024)       4096      \n",
            " zation)                                                         \n",
            "                                                                 \n",
            " conv_pw_12_relu (ReLU)      (None, 1, 1, 1024)        0         \n",
            "                                                                 \n",
            " conv_dw_13 (DepthwiseConv2D  (None, 1, 1, 1024)       9216      \n",
            " )                                                               \n",
            "                                                                 \n",
            " conv_dw_13_bn (BatchNormali  (None, 1, 1, 1024)       4096      \n",
            " zation)                                                         \n",
            "                                                                 \n",
            " conv_dw_13_relu (ReLU)      (None, 1, 1, 1024)        0         \n",
            "                                                                 \n",
            " conv_pw_13 (Conv2D)         (None, 1, 1, 1024)        1048576   \n",
            "                                                                 \n",
            " conv_pw_13_bn (BatchNormali  (None, 1, 1, 1024)       4096      \n",
            " zation)                                                         \n",
            "                                                                 \n",
            " conv_pw_13_relu (ReLU)      (None, 1, 1, 1024)        0         \n",
            "                                                                 \n",
            " flatten_2 (Flatten)         (None, 1024)              0         \n",
            "                                                                 \n",
            " dense_2 (Dense)             (None, 10)                10250     \n",
            "                                                                 \n",
            "=================================================================\n",
            "Total params: 3,239,114\n",
            "Trainable params: 3,217,226\n",
            "Non-trainable params: 21,888\n",
            "_________________________________________________________________\n",
            "Epoch 1/10\n"
          ]
        },
        {
          "output_type": "stream",
          "name": "stderr",
          "text": [
            "/usr/local/lib/python3.7/dist-packages/tensorflow/python/util/dispatch.py:1082: UserWarning: \"`sparse_categorical_crossentropy` received `from_logits=True`, but the `output` argument was produced by a sigmoid or softmax activation and thus does not represent logits. Was this intended?\"\n",
            "  return dispatch_target(*args, **kwargs)\n"
          ]
        },
        {
          "output_type": "stream",
          "name": "stdout",
          "text": [
            "938/938 [==============================] - 29s 28ms/step - loss: 0.4754 - sparse_categorical_accuracy: 0.8473\n",
            "Epoch 2/10\n",
            "938/938 [==============================] - 26s 28ms/step - loss: 0.1300 - sparse_categorical_accuracy: 0.9619\n",
            "Epoch 3/10\n",
            "938/938 [==============================] - 27s 29ms/step - loss: 0.0979 - sparse_categorical_accuracy: 0.9726\n",
            "Epoch 4/10\n",
            "938/938 [==============================] - 27s 29ms/step - loss: 0.0778 - sparse_categorical_accuracy: 0.9785\n",
            "Epoch 5/10\n",
            "938/938 [==============================] - 26s 28ms/step - loss: 0.0785 - sparse_categorical_accuracy: 0.9784\n",
            "Epoch 6/10\n",
            "938/938 [==============================] - 26s 28ms/step - loss: 0.0611 - sparse_categorical_accuracy: 0.9829\n",
            "Epoch 7/10\n",
            "938/938 [==============================] - 27s 29ms/step - loss: 0.0661 - sparse_categorical_accuracy: 0.9822\n",
            "Epoch 8/10\n",
            "938/938 [==============================] - 27s 29ms/step - loss: 0.0576 - sparse_categorical_accuracy: 0.9852\n",
            "Epoch 9/10\n",
            "938/938 [==============================] - 27s 29ms/step - loss: 0.0555 - sparse_categorical_accuracy: 0.9862\n",
            "Epoch 10/10\n",
            "938/938 [==============================] - 26s 28ms/step - loss: 0.0413 - sparse_categorical_accuracy: 0.9887\n",
            "313/313 [==============================] - 4s 10ms/step - loss: 0.0620 - sparse_categorical_accuracy: 0.9846\n"
          ]
        },
        {
          "output_type": "execute_result",
          "data": {
            "text/plain": [
              "[0.062029603868722916, 0.9846000075340271]"
            ]
          },
          "metadata": {},
          "execution_count": 27
        }
      ]
    },
    {
      "cell_type": "code",
      "source": [
        "print(Teacher_hist.history.keys())"
      ],
      "metadata": {
        "colab": {
          "base_uri": "https://localhost:8080/"
        },
        "id": "Ci-V0cEPv0f6",
        "outputId": "df4dfca8-2576-4003-8442-155af5d9b8f9"
      },
      "execution_count": 28,
      "outputs": [
        {
          "output_type": "stream",
          "name": "stdout",
          "text": [
            "dict_keys(['loss', 'sparse_categorical_accuracy'])\n"
          ]
        }
      ]
    },
    {
      "cell_type": "code",
      "source": [
        "#History\n",
        "plt.figure(figsize=(20,7))\n",
        "plt.subplot(121)\n",
        "plt.plot(Teacher_hist.history['sparse_categorical_accuracy'])\n",
        "plt.xlabel('Epochs')\n",
        "plt.ylabel('Accuracy')\n",
        "plt.title(\"Accuracy\")\n",
        "plt.grid()\n",
        "plt.legend()\n",
        "\n",
        "\n",
        "plt.subplot(122)\n",
        "plt.plot(Teacher_hist.history['loss'])\n",
        "plt.xlabel('Epochs')\n",
        "plt.ylabel('Loss')\n",
        "plt.title(\"Loss\")\n",
        "plt.grid()\n",
        "plt.legend()\n",
        "\n",
        "plt.show()"
      ],
      "metadata": {
        "colab": {
          "base_uri": "https://localhost:8080/",
          "height": 494
        },
        "id": "JpTp8NHKq5Lg",
        "outputId": "871b29d4-ca83-4f25-b347-42fae38aa952"
      },
      "execution_count": 29,
      "outputs": [
        {
          "output_type": "stream",
          "name": "stderr",
          "text": [
            "No handles with labels found to put in legend.\n",
            "No handles with labels found to put in legend.\n"
          ]
        },
        {
          "output_type": "display_data",
          "data": {
            "text/plain": [
              "<Figure size 1440x504 with 2 Axes>"
            ],
            "image/png": "[encoded data removed]"
          },
          "metadata": {
            "needs_background": "light"
          }
        }
      ]
    },
    {
      "cell_type": "markdown",
      "source": [
        "## Knowledge Distillation"
      ],
      "metadata": {
        "id": "iajl8Z90r-QL"
      }
    },
    {
      "cell_type": "code",
      "source": [
        "# Create the student\n",
        "student = tf.keras.Sequential(\n",
        "    [\n",
        "        tf.keras.Input(shape=(32, 32, 3)),\n",
        "        tf.keras.layers.Conv2D(16, (3, 3), strides=(2, 2), padding=\"same\"),\n",
        "        tf.keras.layers.LeakyReLU(alpha=0.2),\n",
        "        tf.keras.layers.MaxPooling2D(pool_size=(2, 2), strides=(1, 1), padding=\"same\"),\n",
        "        tf.keras.layers.Conv2D(32, (3, 3), strides=(2, 2), padding=\"same\"),\n",
        "        tf.keras.layers.Flatten(),\n",
        "        tf.keras.layers.Dense(10),\n",
        "    ],\n",
        "    name=\"student\",\n",
        ")\n",
        "\n",
        "# Clone student for later comparison\n",
        "student_scratch = tf.keras.models.clone_model(student)"
      ],
      "metadata": {
        "id": "s2uvU6pMr9q0"
      },
      "execution_count": 32,
      "outputs": []
    },
    {
      "cell_type": "code",
      "source": [
        "dist = Distiller(teacher, student)\n",
        "dist.compile(\n",
        "    optimizer = tf.keras.optimizers.Adam(),\n",
        "    metrics = [tf.keras.metrics.SparseCategoricalAccuracy()],\n",
        "    distillation_loss_fn = tf.keras.losses.KLDivergence(),\n",
        "    student_loss_fn = tf.keras.losses.SparseCategoricalCrossentropy(from_logits=True),\n",
        "    alpha = 0.1,\n",
        "    temperature = 20)\n",
        "\n",
        "\n",
        "\n",
        "# Distill teacher to student\n",
        "dist_hist = dist.fit(x_train, y_train, epochs=Epochs, batch_size = Batch)\n",
        "\n",
        "# Evaluate student on test dataset\n",
        "dist.evaluate(x_test, y_test)"
      ],
      "metadata": {
        "colab": {
          "base_uri": "https://localhost:8080/"
        },
        "id": "r0mqnJe3sQEx",
        "outputId": "8481765a-78c8-47d2-95c4-2055551f153e"
      },
      "execution_count": 33,
      "outputs": [
        {
          "output_type": "stream",
          "name": "stdout",
          "text": [
            "Epoch 1/10\n",
            "938/938 [==============================] - 17s 16ms/step - sparse_categorical_accuracy: 0.9291 - student_loss: 0.2634 - distillation_loss: 0.0075\n",
            "Epoch 2/10\n",
            "938/938 [==============================] - 15s 16ms/step - sparse_categorical_accuracy: 0.9740 - student_loss: 0.1156 - distillation_loss: 0.0074\n",
            "Epoch 3/10\n",
            "938/938 [==============================] - 15s 16ms/step - sparse_categorical_accuracy: 0.9781 - student_loss: 0.1018 - distillation_loss: 0.0072\n",
            "Epoch 4/10\n",
            "938/938 [==============================] - 15s 16ms/step - sparse_categorical_accuracy: 0.9807 - student_loss: 0.0939 - distillation_loss: 0.0071\n",
            "Epoch 5/10\n",
            "938/938 [==============================] - 15s 16ms/step - sparse_categorical_accuracy: 0.9827 - student_loss: 0.0872 - distillation_loss: 0.0070\n",
            "Epoch 6/10\n",
            "938/938 [==============================] - 15s 16ms/step - sparse_categorical_accuracy: 0.9838 - student_loss: 0.0832 - distillation_loss: 0.0069\n",
            "Epoch 7/10\n",
            "938/938 [==============================] - 15s 16ms/step - sparse_categorical_accuracy: 0.9843 - student_loss: 0.0805 - distillation_loss: 0.0069\n",
            "Epoch 8/10\n",
            "938/938 [==============================] - 16s 17ms/step - sparse_categorical_accuracy: 0.9861 - student_loss: 0.0762 - distillation_loss: 0.0069\n",
            "Epoch 9/10\n",
            "938/938 [==============================] - 15s 16ms/step - sparse_categorical_accuracy: 0.9869 - student_loss: 0.0742 - distillation_loss: 0.0068\n",
            "Epoch 10/10\n",
            "938/938 [==============================] - 15s 16ms/step - sparse_categorical_accuracy: 0.9880 - student_loss: 0.0719 - distillation_loss: 0.0068\n",
            "313/313 [==============================] - 1s 4ms/step - sparse_categorical_accuracy: 0.9812 - student_loss: 0.0809\n"
          ]
        },
        {
          "output_type": "execute_result",
          "data": {
            "text/plain": [
              "[0.9811999797821045, 0.024568749591708183]"
            ]
          },
          "metadata": {},
          "execution_count": 33
        }
      ]
    },
    {
      "cell_type": "markdown",
      "source": [
        "## Training from Scratch"
      ],
      "metadata": {
        "id": "sj48cjdCsEKX"
      }
    },
    {
      "cell_type": "code",
      "source": [
        "# Training studen model from scratch\n",
        "student_scratch.compile(\n",
        "    optimizer=tf.keras.optimizers.Adam(),\n",
        "    loss=tf.keras.losses.SparseCategoricalCrossentropy(from_logits=True),\n",
        "    metrics=[tf.keras.metrics.SparseCategoricalAccuracy()],\n",
        "  )\n",
        "\n",
        "scrratch_stud_hist = student_scratch.fit(x_train, y_train, epochs=Epochs, batch_size = Batch)\n",
        "\n",
        "# Evaluate student on test dataset\n",
        "student_scratch.evaluate(x_test, y_test)"
      ],
      "metadata": {
        "colab": {
          "base_uri": "https://localhost:8080/"
        },
        "id": "LvBvOmdAsGU4",
        "outputId": "ff40422b-569b-4c21-b4d0-574456e8ce68"
      },
      "execution_count": 34,
      "outputs": [
        {
          "output_type": "stream",
          "name": "stdout",
          "text": [
            "Epoch 1/10\n",
            "938/938 [==============================] - 5s 5ms/step - loss: 0.2521 - sparse_categorical_accuracy: 0.9254\n",
            "Epoch 2/10\n",
            "938/938 [==============================] - 8s 8ms/step - loss: 0.0971 - sparse_categorical_accuracy: 0.9705\n",
            "Epoch 3/10\n",
            "938/938 [==============================] - 7s 8ms/step - loss: 0.0718 - sparse_categorical_accuracy: 0.9778\n",
            "Epoch 4/10\n",
            "938/938 [==============================] - 5s 5ms/step - loss: 0.0619 - sparse_categorical_accuracy: 0.9811\n",
            "Epoch 5/10\n",
            "938/938 [==============================] - 5s 5ms/step - loss: 0.0568 - sparse_categorical_accuracy: 0.9827\n",
            "Epoch 6/10\n",
            "938/938 [==============================] - 5s 5ms/step - loss: 0.0502 - sparse_categorical_accuracy: 0.9845\n",
            "Epoch 7/10\n",
            "938/938 [==============================] - 5s 5ms/step - loss: 0.0477 - sparse_categorical_accuracy: 0.9854\n",
            "Epoch 8/10\n",
            "938/938 [==============================] - 5s 5ms/step - loss: 0.0453 - sparse_categorical_accuracy: 0.9857\n",
            "Epoch 9/10\n",
            "938/938 [==============================] - 5s 5ms/step - loss: 0.0415 - sparse_categorical_accuracy: 0.9867\n",
            "Epoch 10/10\n",
            "938/938 [==============================] - 5s 5ms/step - loss: 0.0380 - sparse_categorical_accuracy: 0.9880\n",
            "313/313 [==============================] - 1s 4ms/step - loss: 0.0636 - sparse_categorical_accuracy: 0.9806\n"
          ]
        },
        {
          "output_type": "execute_result",
          "data": {
            "text/plain": [
              "[0.06361951678991318, 0.9805999994277954]"
            ]
          },
          "metadata": {},
          "execution_count": 34
        }
      ]
    },
    {
      "cell_type": "markdown",
      "source": [
        "## Evaluating both performances"
      ],
      "metadata": {
        "id": "BTBz0DhzsIDX"
      }
    },
    {
      "cell_type": "code",
      "source": [
        "plot_hist(dist_hist.history['student_loss'], scrratch_stud_hist.history['loss'] ,dist_hist.history['sparse_categorical_accuracy'] , scrratch_stud_hist.history['sparse_categorical_accuracy'])"
      ],
      "metadata": {
        "colab": {
          "base_uri": "https://localhost:8080/",
          "height": 442
        },
        "id": "5hQ3N7fasLNJ",
        "outputId": "23250e04-f620-49bb-dd09-a2c051b1167e"
      },
      "execution_count": 35,
      "outputs": [
        {
          "output_type": "display_data",
          "data": {
            "text/plain": [
              "<Figure size 1440x504 with 2 Axes>"
            ],
            "image/png": "[encoded data removed]"
          },
          "metadata": {
            "needs_background": "light"
          }
        }
      ]
    },
    {
      "cell_type": "code",
      "source": [
        ""
      ],
      "metadata": {
        "id": "JaPpkFxixGRO"
      },
      "execution_count": null,
      "outputs": []
    }
  ]
}
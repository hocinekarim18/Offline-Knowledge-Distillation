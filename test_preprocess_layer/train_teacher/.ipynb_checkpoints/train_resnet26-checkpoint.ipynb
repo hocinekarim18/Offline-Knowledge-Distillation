{
 "cells": [
  {
   "cell_type": "markdown",
   "id": "df4976fd",
   "metadata": {},
   "source": [
    "## Bibiliothèque"
   ]
  },
  {
   "cell_type": "code",
   "execution_count": 19,
   "id": "2da05cba",
   "metadata": {},
   "outputs": [],
   "source": [
    "import numpy as np\n",
    "import tensorflow as tf\n",
    "from sklearn.model_selection import train_test_split\n",
    "import matplotlib.pyplot as plt\n",
    "from resnet import resnet_layer, resnet_v1\n",
    "from Distiller import Distiller_AdaIn, Distiller\n",
    "from tensorflow.keras.preprocessing.image import ImageDataGenerator\n",
    "import time\n",
    "\n",
    "%matplotlib inline\n",
    "seed = tf.random.set_seed(10)\n"
   ]
  },
  {
   "cell_type": "markdown",
   "id": "bf59d199",
   "metadata": {},
   "source": [
    "## Utils"
   ]
  },
  {
   "cell_type": "code",
   "execution_count": 20,
   "id": "d9ab2228",
   "metadata": {},
   "outputs": [],
   "source": [
    "def plot_hist(hist, figname):\n",
    "    #History\n",
    "    plt.figure(figsize=(20,7))\n",
    "    plt.subplot(121)\n",
    "    plt.plot(hist.history['sparse_categorical_accuracy'], label = \"train accur\")\n",
    "    plt.plot(hist.history['val_sparse_categorical_accuracy'], label = \"Val accur\")\n",
    "    \n",
    "    plt.xlabel('Epochs')\n",
    "    plt.ylabel('Accuracy')\n",
    "    plt.title(\"Accuracy\")\n",
    "    plt.grid()\n",
    "    plt.legend()\n",
    "\n",
    "\n",
    "    plt.subplot(122)\n",
    "    plt.plot(hist.history['loss'], label = \"Loss\")\n",
    "    plt.plot(hist.history['val_loss'], label = \"Val loss\")\n",
    "    plt.xlabel('Epochs')\n",
    "    plt.ylabel('Student Loss')\n",
    "    plt.title(\"Loss\")\n",
    "    plt.grid()\n",
    "    plt.legend()\n",
    "    \n",
    "    plt.savefig(figname)\n",
    "    \n",
    "    plt.show()"
   ]
  },
  {
   "cell_type": "markdown",
   "id": "b9b8cf7b",
   "metadata": {},
   "source": [
    "## Loading cifar10 Dataset"
   ]
  },
  {
   "cell_type": "code",
   "execution_count": 21,
   "id": "b2339918",
   "metadata": {},
   "outputs": [
    {
     "name": "stdout",
     "output_type": "stream",
     "text": [
      "================ Data Loading ================\n",
      "x_train shape: (50000, 32, 32, 3)\n",
      "x_test shape: (10000, 32, 32, 3)\n",
      "y_train shape: (50000, 1)\n",
      "y_test shape: (10000, 1)\n",
      "\n"
     ]
    }
   ],
   "source": [
    "print(\"================ Data Loading ================\")\n",
    "(x_train, y_train),(x_test, y_test) = tf.keras.datasets.cifar10.load_data()\n",
    "\n",
    "# Normalize data.\n",
    "x_train = x_train.astype('float32') / 255\n",
    "x_test = x_test.astype('float32') / 255\n",
    "\n",
    "# Data shapes\n",
    "print(\"x_train shape:\", x_train.shape)\n",
    "print(\"x_test shape:\", x_test.shape)\n",
    "print(\"y_train shape:\", y_train.shape)\n",
    "print(\"y_test shape:\", y_test.shape)\n",
    "print(\"\")"
   ]
  },
  {
   "cell_type": "markdown",
   "id": "7978ef20",
   "metadata": {},
   "source": [
    "## Creating a data augmentation process"
   ]
  },
  {
   "cell_type": "code",
   "execution_count": 22,
   "id": "097a558e",
   "metadata": {},
   "outputs": [
    {
     "name": "stdout",
     "output_type": "stream",
     "text": [
      "================ Building dataGen ================\n"
     ]
    }
   ],
   "source": [
    "print(\"================ Building dataGen ================\")\n",
    "datagen = ImageDataGenerator(\n",
    "    featurewise_center=False,\n",
    "    samplewise_center=False,\n",
    "    featurewise_std_normalization=False,\n",
    "    samplewise_std_normalization=False,\n",
    "    zca_whitening=False,\n",
    "    zca_epsilon=1e-06,\n",
    "    rotation_range=45,\n",
    "    width_shift_range=0.2,\n",
    "    height_shift_range=0.2,\n",
    "    horizontal_flip=True,\n",
    "    vertical_flip=False,\n",
    ")\n",
    "\n",
    "datagen.fit(x_train)"
   ]
  },
  {
   "cell_type": "markdown",
   "id": "2b7d738c",
   "metadata": {},
   "source": [
    "## Building a preprocessing routine"
   ]
  },
  {
   "cell_type": "code",
   "execution_count": 23,
   "id": "fec9d02e",
   "metadata": {},
   "outputs": [
    {
     "name": "stdout",
     "output_type": "stream",
     "text": [
      " ============== Adding preprocessing layers ===============\n"
     ]
    }
   ],
   "source": [
    "print(\" ============== Adding preprocessing layers ===============\")\n",
    "preprocessing = tf.keras.Sequential([\n",
    "    tf.keras.layers.RandomCrop(32, 32, seed= seed),\n",
    "    tf.keras.layers.RandomFlip(mode=\"horizontal\", seed= seed),\n",
    "\n",
    "])"
   ]
  },
  {
   "cell_type": "markdown",
   "id": "2e66b092",
   "metadata": {},
   "source": [
    "## Building Resnet26 Teacher model "
   ]
  },
  {
   "cell_type": "code",
   "execution_count": 24,
   "id": "6d168fdc",
   "metadata": {},
   "outputs": [
    {
     "name": "stdout",
     "output_type": "stream",
     "text": [
      "============== Building Student Network Resnet8 ! =============\n"
     ]
    }
   ],
   "source": [
    "print(\"============== Building Student Network Resnet8 ! =============\")\n",
    "\n",
    "teacher = resnet_v1(input_shape=(32, 32, 3), depth= 26)\n",
    "\n",
    "teacher = tf.keras.Sequential([\n",
    "    preprocessing,\n",
    "    teacher,   \n",
    "])\n"
   ]
  },
  {
   "cell_type": "markdown",
   "id": "da3265cc",
   "metadata": {},
   "source": [
    "## Building callbacks"
   ]
  },
  {
   "cell_type": "code",
   "execution_count": 25,
   "id": "2e0c96cb",
   "metadata": {},
   "outputs": [],
   "source": [
    "model_save = tf.keras.callbacks.ModelCheckpoint(\n",
    "    \"/callback/callback_save\",\n",
    "    monitor='val_loss',\n",
    "    verbose=1,\n",
    "    save_best_only=True,\n",
    "    save_weights_only=True,\n",
    "    mode='auto',\n",
    "    save_freq='epoch',\n",
    "    options=None,\n",
    "    initial_value_threshold=None,\n",
    ")\n",
    "\n",
    "lr_reduce = tf.keras.callbacks.ReduceLROnPlateau(\n",
    "    monitor='loss',\n",
    "    factor=0.1,\n",
    "    patience=10,\n",
    "    verbose=1,\n",
    "    mode='min',\n",
    "    \n",
    "    min_delta=0.0001,\n",
    "    cooldown=0,\n",
    "    min_lr=0.000001,\n",
    ")\n",
    "\n",
    "NAME = f\"Resnet26_from_logits\"\n",
    "tensorboard = tf.keras.callbacks.TensorBoard(log_dir = f\"logs/{NAME}\", histogram_freq = 1)"
   ]
  },
  {
   "cell_type": "markdown",
   "id": "bc18e183",
   "metadata": {},
   "source": [
    "## Teacher scratch training"
   ]
  },
  {
   "cell_type": "code",
   "execution_count": 26,
   "id": "f4f35434",
   "metadata": {},
   "outputs": [],
   "source": [
    "BATCH_SIZE = 32\n",
    "EPOCHS = 100\n",
    "lr = 0.1\n"
   ]
  },
  {
   "cell_type": "code",
   "execution_count": 27,
   "id": "d8e4cd92",
   "metadata": {
    "scrolled": true
   },
   "outputs": [
    {
     "name": "stdout",
     "output_type": "stream",
     "text": [
      "Epoch 1/100\n",
      "1562/1562 [==============================] - 207s 129ms/step - loss: 1.9872 - sparse_categorical_accuracy: 0.3508 - val_loss: 2.1661 - val_sparse_categorical_accuracy: 0.3762 - lr: 0.1000\n",
      "Epoch 2/100\n",
      "1562/1562 [==============================] - 203s 130ms/step - loss: 1.4992 - sparse_categorical_accuracy: 0.5256 - val_loss: 1.4054 - val_sparse_categorical_accuracy: 0.5687 - lr: 0.1000\n",
      "Epoch 3/100\n",
      "1562/1562 [==============================] - 203s 130ms/step - loss: 1.2248 - sparse_categorical_accuracy: 0.6327 - val_loss: 1.7810 - val_sparse_categorical_accuracy: 0.5332 - lr: 0.1000\n",
      "Epoch 4/100\n",
      "1562/1562 [==============================] - 201s 128ms/step - loss: 1.0743 - sparse_categorical_accuracy: 0.6995 - val_loss: 1.2580 - val_sparse_categorical_accuracy: 0.6381 - lr: 0.1000\n",
      "Epoch 5/100\n",
      "1562/1562 [==============================] - 204s 130ms/step - loss: 1.0054 - sparse_categorical_accuracy: 0.7323 - val_loss: 1.3012 - val_sparse_categorical_accuracy: 0.6796 - lr: 0.1000\n",
      "Epoch 6/100\n",
      "1562/1562 [==============================] - 201s 129ms/step - loss: 0.9590 - sparse_categorical_accuracy: 0.7532 - val_loss: 1.8365 - val_sparse_categorical_accuracy: 0.5070 - lr: 0.1000\n",
      "Epoch 7/100\n",
      "1562/1562 [==============================] - 197s 126ms/step - loss: 0.9332 - sparse_categorical_accuracy: 0.7671 - val_loss: 1.1551 - val_sparse_categorical_accuracy: 0.6875 - lr: 0.1000\n",
      "Epoch 8/100\n",
      "1562/1562 [==============================] - 201s 129ms/step - loss: 0.9112 - sparse_categorical_accuracy: 0.7768 - val_loss: 1.2386 - val_sparse_categorical_accuracy: 0.6725 - lr: 0.1000\n",
      "Epoch 9/100\n",
      "1562/1562 [==============================] - 203s 130ms/step - loss: 0.9007 - sparse_categorical_accuracy: 0.7867 - val_loss: 1.0956 - val_sparse_categorical_accuracy: 0.7167 - lr: 0.1000\n",
      "Epoch 10/100\n",
      "1562/1562 [==============================] - 203s 130ms/step - loss: 0.8929 - sparse_categorical_accuracy: 0.7907 - val_loss: 1.1000 - val_sparse_categorical_accuracy: 0.7341 - lr: 0.1000\n",
      "Epoch 11/100\n",
      "1562/1562 [==============================] - 200s 128ms/step - loss: 0.8850 - sparse_categorical_accuracy: 0.7970 - val_loss: 1.1820 - val_sparse_categorical_accuracy: 0.6988 - lr: 0.1000\n",
      "Epoch 12/100\n",
      "1562/1562 [==============================] - 199s 127ms/step - loss: 0.8822 - sparse_categorical_accuracy: 0.8014 - val_loss: 1.3295 - val_sparse_categorical_accuracy: 0.6538 - lr: 0.1000\n",
      "Epoch 13/100\n",
      "1562/1562 [==============================] - 201s 129ms/step - loss: 0.8791 - sparse_categorical_accuracy: 0.8050 - val_loss: 1.1795 - val_sparse_categorical_accuracy: 0.7195 - lr: 0.1000\n",
      "Epoch 14/100\n",
      "1562/1562 [==============================] - 202s 130ms/step - loss: 0.8753 - sparse_categorical_accuracy: 0.8091 - val_loss: 1.1253 - val_sparse_categorical_accuracy: 0.7400 - lr: 0.1000\n",
      "Epoch 15/100\n",
      "1562/1562 [==============================] - 203s 130ms/step - loss: 0.8754 - sparse_categorical_accuracy: 0.8097 - val_loss: 1.0870 - val_sparse_categorical_accuracy: 0.7490 - lr: 0.1000\n",
      "Epoch 16/100\n",
      "1562/1562 [==============================] - 204s 131ms/step - loss: 0.8716 - sparse_categorical_accuracy: 0.8126 - val_loss: 1.1061 - val_sparse_categorical_accuracy: 0.7310 - lr: 0.1000\n",
      "Epoch 17/100\n",
      "1562/1562 [==============================] - 203s 130ms/step - loss: 0.8633 - sparse_categorical_accuracy: 0.8174 - val_loss: 1.4005 - val_sparse_categorical_accuracy: 0.6585 - lr: 0.1000\n",
      "Epoch 18/100\n",
      "1562/1562 [==============================] - 201s 129ms/step - loss: 0.8670 - sparse_categorical_accuracy: 0.8168 - val_loss: 1.1525 - val_sparse_categorical_accuracy: 0.7352 - lr: 0.1000\n",
      "Epoch 19/100\n",
      "1562/1562 [==============================] - 203s 130ms/step - loss: 0.8643 - sparse_categorical_accuracy: 0.8198 - val_loss: 1.2615 - val_sparse_categorical_accuracy: 0.7095 - lr: 0.1000\n",
      "Epoch 20/100\n",
      "1562/1562 [==============================] - 202s 129ms/step - loss: 0.8555 - sparse_categorical_accuracy: 0.8232 - val_loss: 1.2005 - val_sparse_categorical_accuracy: 0.7328 - lr: 0.1000\n",
      "Epoch 21/100\n",
      "1562/1562 [==============================] - 201s 129ms/step - loss: 0.8590 - sparse_categorical_accuracy: 0.8232 - val_loss: 1.1254 - val_sparse_categorical_accuracy: 0.7363 - lr: 0.1000\n",
      "Epoch 22/100\n",
      "1562/1562 [==============================] - 199s 128ms/step - loss: 0.8519 - sparse_categorical_accuracy: 0.8267 - val_loss: 1.0677 - val_sparse_categorical_accuracy: 0.7510 - lr: 0.1000\n",
      "Epoch 23/100\n",
      "1562/1562 [==============================] - 199s 127ms/step - loss: 0.8458 - sparse_categorical_accuracy: 0.8268 - val_loss: 0.9590 - val_sparse_categorical_accuracy: 0.7971 - lr: 0.1000\n",
      "Epoch 24/100\n",
      "1562/1562 [==============================] - 199s 127ms/step - loss: 0.8489 - sparse_categorical_accuracy: 0.8284 - val_loss: 1.2016 - val_sparse_categorical_accuracy: 0.7277 - lr: 0.1000\n",
      "Epoch 25/100\n",
      "1562/1562 [==============================] - 201s 129ms/step - loss: 0.8425 - sparse_categorical_accuracy: 0.8294 - val_loss: 1.1024 - val_sparse_categorical_accuracy: 0.7584 - lr: 0.1000\n",
      "Epoch 26/100\n",
      "1562/1562 [==============================] - 203s 130ms/step - loss: 0.8443 - sparse_categorical_accuracy: 0.8321 - val_loss: 1.1443 - val_sparse_categorical_accuracy: 0.7486 - lr: 0.1000\n",
      "Epoch 27/100\n",
      "1562/1562 [==============================] - 202s 129ms/step - loss: 0.8416 - sparse_categorical_accuracy: 0.8322 - val_loss: 1.0804 - val_sparse_categorical_accuracy: 0.7514 - lr: 0.1000\n",
      "Epoch 28/100\n",
      "1562/1562 [==============================] - 205s 131ms/step - loss: 0.8417 - sparse_categorical_accuracy: 0.8326 - val_loss: 1.1130 - val_sparse_categorical_accuracy: 0.7416 - lr: 0.1000\n",
      "Epoch 29/100\n",
      "1562/1562 [==============================] - 201s 129ms/step - loss: 0.8336 - sparse_categorical_accuracy: 0.8360 - val_loss: 1.2072 - val_sparse_categorical_accuracy: 0.7413 - lr: 0.1000\n",
      "Epoch 30/100\n",
      "1562/1562 [==============================] - 201s 129ms/step - loss: 0.8460 - sparse_categorical_accuracy: 0.8331 - val_loss: 1.2221 - val_sparse_categorical_accuracy: 0.7114 - lr: 0.1000\n",
      "Epoch 31/100\n",
      "1562/1562 [==============================] - 202s 129ms/step - loss: 0.8391 - sparse_categorical_accuracy: 0.8356 - val_loss: 0.9939 - val_sparse_categorical_accuracy: 0.7857 - lr: 0.1000\n",
      "Epoch 32/100\n",
      "1562/1562 [==============================] - 202s 130ms/step - loss: 0.8314 - sparse_categorical_accuracy: 0.8409 - val_loss: 0.9482 - val_sparse_categorical_accuracy: 0.8050 - lr: 0.1000\n",
      "Epoch 33/100\n",
      "1562/1562 [==============================] - 203s 130ms/step - loss: 0.8365 - sparse_categorical_accuracy: 0.8388 - val_loss: 1.0046 - val_sparse_categorical_accuracy: 0.7856 - lr: 0.1000\n",
      "Epoch 34/100\n",
      "1562/1562 [==============================] - 205s 131ms/step - loss: 0.8296 - sparse_categorical_accuracy: 0.8404 - val_loss: 1.2545 - val_sparse_categorical_accuracy: 0.7088 - lr: 0.1000\n",
      "Epoch 35/100\n",
      "1562/1562 [==============================] - 205s 131ms/step - loss: 0.8277 - sparse_categorical_accuracy: 0.8402 - val_loss: 1.1098 - val_sparse_categorical_accuracy: 0.7532 - lr: 0.1000\n",
      "Epoch 36/100\n",
      "1562/1562 [==============================] - 198s 126ms/step - loss: 0.8275 - sparse_categorical_accuracy: 0.8410 - val_loss: 1.1467 - val_sparse_categorical_accuracy: 0.7483 - lr: 0.1000\n",
      "Epoch 37/100\n",
      "1562/1562 [==============================] - 201s 128ms/step - loss: 0.8319 - sparse_categorical_accuracy: 0.8385 - val_loss: 1.0440 - val_sparse_categorical_accuracy: 0.7652 - lr: 0.1000\n",
      "Epoch 38/100\n",
      "1562/1562 [==============================] - 205s 131ms/step - loss: 0.8287 - sparse_categorical_accuracy: 0.8404 - val_loss: 1.0965 - val_sparse_categorical_accuracy: 0.7539 - lr: 0.1000\n",
      "Epoch 39/100\n",
      "1562/1562 [==============================] - 204s 131ms/step - loss: 0.8267 - sparse_categorical_accuracy: 0.8428 - val_loss: 1.1153 - val_sparse_categorical_accuracy: 0.7422 - lr: 0.1000\n",
      "Epoch 40/100\n",
      "1562/1562 [==============================] - 206s 132ms/step - loss: 0.8307 - sparse_categorical_accuracy: 0.8401 - val_loss: 1.0437 - val_sparse_categorical_accuracy: 0.7738 - lr: 0.1000\n",
      "Epoch 41/100\n",
      "1562/1562 [==============================] - 203s 130ms/step - loss: 0.8216 - sparse_categorical_accuracy: 0.8429 - val_loss: 1.6716 - val_sparse_categorical_accuracy: 0.5813 - lr: 0.1000\n"
     ]
    },
    {
     "name": "stdout",
     "output_type": "stream",
     "text": [
      "Epoch 42/100\n",
      "1562/1562 [==============================] - 201s 129ms/step - loss: 0.8241 - sparse_categorical_accuracy: 0.8423 - val_loss: 1.4532 - val_sparse_categorical_accuracy: 0.6749 - lr: 0.1000\n",
      "Epoch 43/100\n",
      "1562/1562 [==============================] - 202s 130ms/step - loss: 0.8218 - sparse_categorical_accuracy: 0.8447 - val_loss: 1.1261 - val_sparse_categorical_accuracy: 0.7506 - lr: 0.1000\n",
      "Epoch 44/100\n",
      "1562/1562 [==============================] - 203s 130ms/step - loss: 0.8200 - sparse_categorical_accuracy: 0.8451 - val_loss: 1.1085 - val_sparse_categorical_accuracy: 0.7600 - lr: 0.1000\n",
      "Epoch 45/100\n",
      "1562/1562 [==============================] - 200s 128ms/step - loss: 0.8218 - sparse_categorical_accuracy: 0.8441 - val_loss: 1.0831 - val_sparse_categorical_accuracy: 0.7615 - lr: 0.1000\n",
      "Epoch 46/100\n",
      "1562/1562 [==============================] - 202s 129ms/step - loss: 0.8151 - sparse_categorical_accuracy: 0.8452 - val_loss: 1.2221 - val_sparse_categorical_accuracy: 0.7245 - lr: 0.1000\n",
      "Epoch 47/100\n",
      "1562/1562 [==============================] - 204s 130ms/step - loss: 0.8182 - sparse_categorical_accuracy: 0.8466 - val_loss: 1.1039 - val_sparse_categorical_accuracy: 0.7658 - lr: 0.1000\n",
      "Epoch 48/100\n",
      "1562/1562 [==============================] - 203s 130ms/step - loss: 0.8187 - sparse_categorical_accuracy: 0.8454 - val_loss: 1.1226 - val_sparse_categorical_accuracy: 0.7555 - lr: 0.1000\n",
      "Epoch 49/100\n",
      "1562/1562 [==============================] - 201s 129ms/step - loss: 0.8201 - sparse_categorical_accuracy: 0.8470 - val_loss: 1.1237 - val_sparse_categorical_accuracy: 0.7482 - lr: 0.1000\n",
      "Epoch 50/100\n",
      "1562/1562 [==============================] - 203s 130ms/step - loss: 0.8189 - sparse_categorical_accuracy: 0.8453 - val_loss: 1.2799 - val_sparse_categorical_accuracy: 0.7221 - lr: 0.1000\n",
      "Epoch 51/100\n",
      "1562/1562 [==============================] - 205s 131ms/step - loss: 0.8174 - sparse_categorical_accuracy: 0.8477 - val_loss: 0.9735 - val_sparse_categorical_accuracy: 0.8017 - lr: 0.1000\n",
      "Epoch 52/100\n",
      "1562/1562 [==============================] - 208s 133ms/step - loss: 0.8140 - sparse_categorical_accuracy: 0.8488 - val_loss: 1.4269 - val_sparse_categorical_accuracy: 0.6623 - lr: 0.1000\n",
      "Epoch 53/100\n",
      "1562/1562 [==============================] - 207s 133ms/step - loss: 0.8207 - sparse_categorical_accuracy: 0.8472 - val_loss: 1.0128 - val_sparse_categorical_accuracy: 0.7937 - lr: 0.1000\n",
      "Epoch 54/100\n",
      "1562/1562 [==============================] - 206s 132ms/step - loss: 0.8135 - sparse_categorical_accuracy: 0.8503 - val_loss: 1.1881 - val_sparse_categorical_accuracy: 0.7346 - lr: 0.1000\n",
      "Epoch 55/100\n",
      "1562/1562 [==============================] - 206s 132ms/step - loss: 0.8187 - sparse_categorical_accuracy: 0.8489 - val_loss: 1.4327 - val_sparse_categorical_accuracy: 0.6565 - lr: 0.1000\n",
      "Epoch 56/100\n",
      "1562/1562 [==============================] - 204s 131ms/step - loss: 0.8156 - sparse_categorical_accuracy: 0.8507 - val_loss: 1.0250 - val_sparse_categorical_accuracy: 0.7830 - lr: 0.1000\n",
      "Epoch 57/100\n",
      "1562/1562 [==============================] - 205s 131ms/step - loss: 0.8206 - sparse_categorical_accuracy: 0.8457 - val_loss: 1.2312 - val_sparse_categorical_accuracy: 0.7224 - lr: 0.1000\n",
      "Epoch 58/100\n",
      "1562/1562 [==============================] - 208s 133ms/step - loss: 0.8119 - sparse_categorical_accuracy: 0.8513 - val_loss: 1.1282 - val_sparse_categorical_accuracy: 0.7491 - lr: 0.1000\n",
      "Epoch 59/100\n",
      "1562/1562 [==============================] - 207s 133ms/step - loss: 0.8215 - sparse_categorical_accuracy: 0.8492 - val_loss: 1.1208 - val_sparse_categorical_accuracy: 0.7553 - lr: 0.1000\n",
      "Epoch 60/100\n",
      "1562/1562 [==============================] - 202s 129ms/step - loss: 0.8169 - sparse_categorical_accuracy: 0.8511 - val_loss: 1.0850 - val_sparse_categorical_accuracy: 0.7660 - lr: 0.1000\n",
      "Epoch 61/100\n",
      "1562/1562 [==============================] - 203s 130ms/step - loss: 0.8123 - sparse_categorical_accuracy: 0.8513 - val_loss: 1.0365 - val_sparse_categorical_accuracy: 0.7827 - lr: 0.1000\n",
      "Epoch 62/100\n",
      "1562/1562 [==============================] - 205s 131ms/step - loss: 0.8153 - sparse_categorical_accuracy: 0.8485 - val_loss: 1.0994 - val_sparse_categorical_accuracy: 0.7642 - lr: 0.1000\n",
      "Epoch 63/100\n",
      "1562/1562 [==============================] - 205s 131ms/step - loss: 0.8092 - sparse_categorical_accuracy: 0.8530 - val_loss: 0.9932 - val_sparse_categorical_accuracy: 0.7944 - lr: 0.1000\n",
      "Epoch 64/100\n",
      "1562/1562 [==============================] - 208s 133ms/step - loss: 0.8138 - sparse_categorical_accuracy: 0.8500 - val_loss: 1.0464 - val_sparse_categorical_accuracy: 0.7772 - lr: 0.1000\n",
      "Epoch 65/100\n",
      "1562/1562 [==============================] - 207s 132ms/step - loss: 0.8112 - sparse_categorical_accuracy: 0.8523 - val_loss: 1.1628 - val_sparse_categorical_accuracy: 0.7434 - lr: 0.1000\n",
      "Epoch 66/100\n",
      "1562/1562 [==============================] - 203s 130ms/step - loss: 0.7988 - sparse_categorical_accuracy: 0.8548 - val_loss: 1.1042 - val_sparse_categorical_accuracy: 0.7575 - lr: 0.1000\n",
      "Epoch 67/100\n",
      "1562/1562 [==============================] - 202s 129ms/step - loss: 0.8177 - sparse_categorical_accuracy: 0.8482 - val_loss: 1.2401 - val_sparse_categorical_accuracy: 0.7441 - lr: 0.1000\n",
      "Epoch 68/100\n",
      "1562/1562 [==============================] - 202s 129ms/step - loss: 0.8110 - sparse_categorical_accuracy: 0.8518 - val_loss: 1.1425 - val_sparse_categorical_accuracy: 0.7548 - lr: 0.1000\n",
      "Epoch 69/100\n",
      "1562/1562 [==============================] - 205s 131ms/step - loss: 0.8082 - sparse_categorical_accuracy: 0.8524 - val_loss: 1.1153 - val_sparse_categorical_accuracy: 0.7593 - lr: 0.1000\n",
      "Epoch 70/100\n",
      "1562/1562 [==============================] - 205s 131ms/step - loss: 0.8014 - sparse_categorical_accuracy: 0.8542 - val_loss: 1.0054 - val_sparse_categorical_accuracy: 0.7906 - lr: 0.1000\n",
      "Epoch 71/100\n",
      "1562/1562 [==============================] - 206s 132ms/step - loss: 0.8091 - sparse_categorical_accuracy: 0.8506 - val_loss: 1.2168 - val_sparse_categorical_accuracy: 0.7271 - lr: 0.1000\n",
      "Epoch 72/100\n",
      "1562/1562 [==============================] - 205s 131ms/step - loss: 0.8022 - sparse_categorical_accuracy: 0.8542 - val_loss: 1.3534 - val_sparse_categorical_accuracy: 0.6999 - lr: 0.1000\n",
      "Epoch 73/100\n",
      "1562/1562 [==============================] - 205s 131ms/step - loss: 0.8053 - sparse_categorical_accuracy: 0.8523 - val_loss: 1.1208 - val_sparse_categorical_accuracy: 0.7514 - lr: 0.1000\n",
      "Epoch 74/100\n",
      "1562/1562 [==============================] - 205s 131ms/step - loss: 0.8046 - sparse_categorical_accuracy: 0.8527 - val_loss: 0.9817 - val_sparse_categorical_accuracy: 0.7974 - lr: 0.1000\n",
      "Epoch 75/100\n",
      "1562/1562 [==============================] - 206s 132ms/step - loss: 0.8008 - sparse_categorical_accuracy: 0.8549 - val_loss: 1.1020 - val_sparse_categorical_accuracy: 0.7649 - lr: 0.1000\n",
      "Epoch 76/100\n",
      "1563/1562 [==============================] - ETA: 0s - loss: 0.8016 - sparse_categorical_accuracy: 0.8556\n",
      "Epoch 76: ReduceLROnPlateau reducing learning rate to 0.010000000149011612.\n",
      "1562/1562 [==============================] - 204s 131ms/step - loss: 0.8016 - sparse_categorical_accuracy: 0.8556 - val_loss: 1.0036 - val_sparse_categorical_accuracy: 0.7936 - lr: 0.1000\n",
      "Epoch 77/100\n",
      "1562/1562 [==============================] - 208s 133ms/step - loss: 0.6370 - sparse_categorical_accuracy: 0.9100 - val_loss: 0.7040 - val_sparse_categorical_accuracy: 0.8846 - lr: 0.0100\n",
      "Epoch 78/100\n",
      "1562/1562 [==============================] - 205s 131ms/step - loss: 0.5485 - sparse_categorical_accuracy: 0.9326 - val_loss: 0.6806 - val_sparse_categorical_accuracy: 0.8874 - lr: 0.0100\n",
      "Epoch 79/100\n",
      "1562/1562 [==============================] - 202s 130ms/step - loss: 0.5014 - sparse_categorical_accuracy: 0.9419 - val_loss: 0.6481 - val_sparse_categorical_accuracy: 0.8920 - lr: 0.0100\n",
      "Epoch 80/100\n",
      "1562/1562 [==============================] - 202s 129ms/step - loss: 0.4618 - sparse_categorical_accuracy: 0.9497 - val_loss: 0.6357 - val_sparse_categorical_accuracy: 0.8922 - lr: 0.0100\n",
      "Epoch 81/100\n",
      "1562/1562 [==============================] - 203s 130ms/step - loss: 0.4278 - sparse_categorical_accuracy: 0.9555 - val_loss: 0.6195 - val_sparse_categorical_accuracy: 0.8944 - lr: 0.0100\n"
     ]
    },
    {
     "name": "stdout",
     "output_type": "stream",
     "text": [
      "Epoch 82/100\n",
      "1562/1562 [==============================] - 204s 131ms/step - loss: 0.3959 - sparse_categorical_accuracy: 0.9619 - val_loss: 0.6068 - val_sparse_categorical_accuracy: 0.8939 - lr: 0.0100\n",
      "Epoch 83/100\n",
      "1562/1562 [==============================] - 202s 129ms/step - loss: 0.3706 - sparse_categorical_accuracy: 0.9650 - val_loss: 0.5940 - val_sparse_categorical_accuracy: 0.8952 - lr: 0.0100\n",
      "Epoch 84/100\n",
      "1562/1562 [==============================] - 202s 129ms/step - loss: 0.3459 - sparse_categorical_accuracy: 0.9688 - val_loss: 0.5975 - val_sparse_categorical_accuracy: 0.8927 - lr: 0.0100\n",
      "Epoch 85/100\n",
      "1562/1562 [==============================] - 200s 128ms/step - loss: 0.3207 - sparse_categorical_accuracy: 0.9742 - val_loss: 0.5860 - val_sparse_categorical_accuracy: 0.8945 - lr: 0.0100\n",
      "Epoch 86/100\n",
      "1562/1562 [==============================] - 199s 128ms/step - loss: 0.3025 - sparse_categorical_accuracy: 0.9756 - val_loss: 0.5910 - val_sparse_categorical_accuracy: 0.8898 - lr: 0.0100\n",
      "Epoch 87/100\n",
      "1562/1562 [==============================] - 200s 128ms/step - loss: 0.2882 - sparse_categorical_accuracy: 0.9772 - val_loss: 0.6028 - val_sparse_categorical_accuracy: 0.8883 - lr: 0.0100\n",
      "Epoch 88/100\n",
      "1562/1562 [==============================] - 201s 129ms/step - loss: 0.2694 - sparse_categorical_accuracy: 0.9812 - val_loss: 0.6023 - val_sparse_categorical_accuracy: 0.8880 - lr: 0.0100\n",
      "Epoch 89/100\n",
      "1562/1562 [==============================] - 201s 129ms/step - loss: 0.2589 - sparse_categorical_accuracy: 0.9798 - val_loss: 0.6006 - val_sparse_categorical_accuracy: 0.8839 - lr: 0.0100\n",
      "Epoch 90/100\n",
      "1562/1562 [==============================] - 201s 129ms/step - loss: 0.2520 - sparse_categorical_accuracy: 0.9803 - val_loss: 0.5798 - val_sparse_categorical_accuracy: 0.8899 - lr: 0.0100\n",
      "Epoch 91/100\n",
      "1562/1562 [==============================] - 203s 130ms/step - loss: 0.2413 - sparse_categorical_accuracy: 0.9809 - val_loss: 0.5969 - val_sparse_categorical_accuracy: 0.8806 - lr: 0.0100\n",
      "Epoch 92/100\n",
      "1562/1562 [==============================] - 205s 131ms/step - loss: 0.2372 - sparse_categorical_accuracy: 0.9809 - val_loss: 0.5910 - val_sparse_categorical_accuracy: 0.8882 - lr: 0.0100\n",
      "Epoch 93/100\n",
      "1562/1562 [==============================] - 205s 131ms/step - loss: 0.2334 - sparse_categorical_accuracy: 0.9793 - val_loss: 0.6060 - val_sparse_categorical_accuracy: 0.8816 - lr: 0.0100\n",
      "Epoch 94/100\n",
      "1562/1562 [==============================] - 203s 130ms/step - loss: 0.2288 - sparse_categorical_accuracy: 0.9796 - val_loss: 0.6019 - val_sparse_categorical_accuracy: 0.8847 - lr: 0.0100\n",
      "Epoch 95/100\n",
      "1562/1562 [==============================] - 206s 132ms/step - loss: 0.2278 - sparse_categorical_accuracy: 0.9779 - val_loss: 0.6523 - val_sparse_categorical_accuracy: 0.8697 - lr: 0.0100\n",
      "Epoch 96/100\n",
      "1562/1562 [==============================] - 205s 131ms/step - loss: 0.2254 - sparse_categorical_accuracy: 0.9781 - val_loss: 0.5951 - val_sparse_categorical_accuracy: 0.8833 - lr: 0.0100\n",
      "Epoch 97/100\n",
      "1562/1562 [==============================] - 204s 130ms/step - loss: 0.2254 - sparse_categorical_accuracy: 0.9767 - val_loss: 0.6000 - val_sparse_categorical_accuracy: 0.8810 - lr: 0.0100\n",
      "Epoch 98/100\n",
      "1562/1562 [==============================] - 203s 130ms/step - loss: 0.2261 - sparse_categorical_accuracy: 0.9753 - val_loss: 0.6349 - val_sparse_categorical_accuracy: 0.8736 - lr: 0.0100\n",
      "Epoch 99/100\n",
      "1562/1562 [==============================] - 205s 131ms/step - loss: 0.2238 - sparse_categorical_accuracy: 0.9751 - val_loss: 0.5832 - val_sparse_categorical_accuracy: 0.8797 - lr: 0.0100\n",
      "Epoch 100/100\n",
      "1562/1562 [==============================] - 203s 130ms/step - loss: 0.2259 - sparse_categorical_accuracy: 0.9736 - val_loss: 0.5969 - val_sparse_categorical_accuracy: 0.8785 - lr: 0.0100\n",
      "313/313 [==============================] - 10s 31ms/step - loss: 0.5969 - sparse_categorical_accuracy: 0.8785\n",
      "\n",
      " =============== History Plot ===============\n"
     ]
    },
    {
     "data": {
      "image/png": "[encoded data removed]",
      "text/plain": [
       "<Figure size 1440x504 with 2 Axes>"
      ]
     },
     "metadata": {
      "needs_background": "light"
     },
     "output_type": "display_data"
    },
    {
     "name": "stdout",
     "output_type": "stream",
     "text": [
      "Saving model \n"
     ]
    },
    {
     "name": "stderr",
     "output_type": "stream",
     "text": [
      "2022-05-04 15:33:27.343916: W tensorflow/python/util/util.cc:368] Sets are not currently considered sequences, but this may change in the future, so consider avoiding using them.\n"
     ]
    },
    {
     "name": "stdout",
     "output_type": "stream",
     "text": [
      "INFO:tensorflow:Assets written to: Resnet26_from_logits/assets\n",
      "Saving Done !\n",
      "Saving Weights \n",
      "Saving Done !\n",
      "\n",
      "End !\n"
     ]
    }
   ],
   "source": [
    "teacher.compile(\n",
    "        optimizer = tf.keras.optimizers.SGD(learning_rate=lr, momentum=0.9),\n",
    "        metrics = [tf.keras.metrics.SparseCategoricalAccuracy()],\n",
    "        loss = tf.keras.losses.SparseCategoricalCrossentropy(from_logits=True),\n",
    "       )\n",
    "\n",
    "    # Train and evaluate on data.\n",
    "hist = teacher.fit(x_train, y_train, \n",
    "      batch_size = BATCH_SIZE,\n",
    "      epochs=EPOCHS,\n",
    "      steps_per_epoch = len(x_train)/BATCH_SIZE,\n",
    "      validation_data =(x_test, y_test),\n",
    "      workers =40,\n",
    "      use_multiprocessing= True,\n",
    "      callbacks = [lr_reduce, tensorboard],\n",
    "      )\n",
    "\n",
    "\n",
    "teacher.evaluate(x_test, y_test)\n",
    "print(\"\")\n",
    "\n",
    "print(\" =============== History Plot ===============\")\n",
    "plot_hist(hist, f\"Resnet26_from_logits.png\")\n",
    "\n",
    "\n",
    "print(\"Saving model \")\n",
    "teacher.save(f\"Resnet26_from_logits\")\n",
    "print(\"Saving Done !\")\n",
    "\n",
    "print(\"Saving Weights \")\n",
    "teacher.save_weights(f\"Resnet26_from_logits.h5\")\n",
    "print(\"Saving Done !\")\n",
    "print(\"\")\n",
    "\n",
    "print(\"End !\")"
   ]
  },
  {
   "cell_type": "code",
   "execution_count": null,
   "id": "c4a6809a",
   "metadata": {},
   "outputs": [
    {
     "name": "stdout",
     "output_type": "stream",
     "text": [
      "Epoch 1/250\n",
      "1562/1562 [==============================] - 209s 133ms/step - loss: 0.2246 - sparse_categorical_accuracy: 0.9746 - val_loss: 0.6447 - val_sparse_categorical_accuracy: 0.8696 - lr: 0.0100\n",
      "Epoch 2/250\n",
      "1562/1562 [==============================] - 205s 131ms/step - loss: 0.2219 - sparse_categorical_accuracy: 0.9749 - val_loss: 0.5931 - val_sparse_categorical_accuracy: 0.8788 - lr: 0.0100\n",
      "Epoch 3/250\n",
      "1562/1562 [==============================] - 210s 134ms/step - loss: 0.2223 - sparse_categorical_accuracy: 0.9747 - val_loss: 0.6004 - val_sparse_categorical_accuracy: 0.8778 - lr: 0.0100\n",
      "Epoch 4/250\n",
      "1562/1562 [==============================] - 208s 133ms/step - loss: 0.2191 - sparse_categorical_accuracy: 0.9753 - val_loss: 0.6036 - val_sparse_categorical_accuracy: 0.8751 - lr: 0.0100\n",
      "Epoch 5/250\n",
      "1562/1562 [==============================] - 208s 133ms/step - loss: 0.2187 - sparse_categorical_accuracy: 0.9754 - val_loss: 0.5937 - val_sparse_categorical_accuracy: 0.8795 - lr: 0.0100\n",
      "Epoch 6/250\n",
      "1562/1562 [==============================] - 210s 134ms/step - loss: 0.2203 - sparse_categorical_accuracy: 0.9747 - val_loss: 0.5774 - val_sparse_categorical_accuracy: 0.8823 - lr: 0.0100\n",
      "Epoch 7/250\n",
      "1562/1562 [==============================] - 209s 134ms/step - loss: 0.2175 - sparse_categorical_accuracy: 0.9756 - val_loss: 0.6012 - val_sparse_categorical_accuracy: 0.8794 - lr: 0.0100\n",
      "Epoch 8/250\n",
      "1562/1562 [==============================] - 206s 132ms/step - loss: 0.2171 - sparse_categorical_accuracy: 0.9757 - val_loss: 0.6284 - val_sparse_categorical_accuracy: 0.8769 - lr: 0.0100\n",
      "Epoch 9/250\n",
      " 678/1562 [============>.................] - ETA: 1:53 - loss: 0.2077 - sparse_categorical_accuracy: 0.9786"
     ]
    }
   ],
   "source": [
    "tensorboard = tf.keras.callbacks.TensorBoard(log_dir = f\"logs/{NAME}_suite\", histogram_freq = 1)\n",
    "EPOCHS = 250\n",
    "\n",
    "    # Train and evaluate on data.\n",
    "hist = teacher.fit(x_train, y_train, \n",
    "      batch_size = BATCH_SIZE,\n",
    "      epochs=EPOCHS,\n",
    "      steps_per_epoch = len(x_train)/BATCH_SIZE,\n",
    "      validation_data =(x_test, y_test),\n",
    "      workers =40,\n",
    "      use_multiprocessing= True,\n",
    "      callbacks = [lr_reduce, tensorboard],\n",
    "      )\n",
    "\n",
    "\n",
    "teacher.evaluate(x_test, y_test)\n",
    "print(\"\")\n",
    "\n",
    "print(\" =============== History Plot ===============\")\n",
    "plot_hist(hist, f\"Resnet26_from_logits_suite.png\")\n",
    "\n",
    "\n",
    "print(\"Saving model \")\n",
    "teacher.save(f\"Resnet26_from_logits\")\n",
    "print(\"Saving Done !\")\n",
    "\n",
    "print(\"Saving Weights \")\n",
    "teacher.save_weights(f\"Resnet26_from_logits.h5\")\n",
    "print(\"Saving Done !\")\n",
    "print(\"\")\n",
    "\n",
    "print(\"End !\")"
   ]
  },
  {
   "cell_type": "code",
   "execution_count": null,
   "id": "a7e9802f",
   "metadata": {},
   "outputs": [],
   "source": []
  }
 ],
 "metadata": {
  "kernelspec": {
   "display_name": "Python 3 (ipykernel)",
   "language": "python",
   "name": "python3"
  },
  "language_info": {
   "codemirror_mode": {
    "name": "ipython",
    "version": 3
   },
   "file_extension": ".py",
   "mimetype": "text/x-python",
   "name": "python",
   "nbconvert_exporter": "python",
   "pygments_lexer": "ipython3",
   "version": "3.9.12"
  }
 },
 "nbformat": 4,
 "nbformat_minor": 5
}

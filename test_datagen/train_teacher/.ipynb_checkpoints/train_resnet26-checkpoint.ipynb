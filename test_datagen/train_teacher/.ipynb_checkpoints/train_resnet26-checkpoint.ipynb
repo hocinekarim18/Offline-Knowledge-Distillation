{
 "cells": [
  {
   "cell_type": "markdown",
   "id": "df4976fd",
   "metadata": {},
   "source": [
    "## Bibiliothèque"
   ]
  },
  {
   "cell_type": "code",
   "execution_count": 19,
   "id": "2da05cba",
   "metadata": {},
   "outputs": [],
   "source": [
    "import numpy as np\n",
    "import tensorflow as tf\n",
    "from sklearn.model_selection import train_test_split\n",
    "import matplotlib.pyplot as plt\n",
    "from resnet import resnet_layer, resnet_v1\n",
    "from Distiller import Distiller_AdaIn, Distiller\n",
    "from tensorflow.keras.preprocessing.image import ImageDataGenerator\n",
    "import time\n",
    "\n",
    "%matplotlib inline\n",
    "seed = tf.random.set_seed(10)\n"
   ]
  },
  {
   "cell_type": "markdown",
   "id": "bf59d199",
   "metadata": {},
   "source": [
    "## Utils"
   ]
  },
  {
   "cell_type": "code",
   "execution_count": 20,
   "id": "d9ab2228",
   "metadata": {},
   "outputs": [],
   "source": [
    "def plot_hist(hist, figname):\n",
    "    #History\n",
    "    plt.figure(figsize=(20,7))\n",
    "    plt.subplot(121)\n",
    "    plt.plot(hist.history['sparse_categorical_accuracy'], label = \"train accur\")\n",
    "    plt.plot(hist.history['val_sparse_categorical_accuracy'], label = \"Val accur\")\n",
    "    \n",
    "    plt.xlabel('Epochs')\n",
    "    plt.ylabel('Accuracy')\n",
    "    plt.title(\"Accuracy\")\n",
    "    plt.grid()\n",
    "    plt.legend()\n",
    "\n",
    "\n",
    "    plt.subplot(122)\n",
    "    plt.plot(hist.history['loss'], label = \"Loss\")\n",
    "    plt.plot(hist.history['val_loss'], label = \"Val loss\")\n",
    "    plt.xlabel('Epochs')\n",
    "    plt.ylabel('Student Loss')\n",
    "    plt.title(\"Loss\")\n",
    "    plt.grid()\n",
    "    plt.legend()\n",
    "    \n",
    "    plt.savefig(figname)\n",
    "    \n",
    "    plt.show()"
   ]
  },
  {
   "cell_type": "markdown",
   "id": "b9b8cf7b",
   "metadata": {},
   "source": [
    "## Loading cifar10 Dataset"
   ]
  },
  {
   "cell_type": "code",
   "execution_count": 21,
   "id": "b2339918",
   "metadata": {},
   "outputs": [
    {
     "name": "stdout",
     "output_type": "stream",
     "text": [
      "================ Data Loading ================\n",
      "x_train shape: (50000, 32, 32, 3)\n",
      "x_test shape: (10000, 32, 32, 3)\n",
      "y_train shape: (50000, 1)\n",
      "y_test shape: (10000, 1)\n",
      "\n"
     ]
    }
   ],
   "source": [
    "print(\"================ Data Loading ================\")\n",
    "(x_train, y_train),(x_test, y_test) = tf.keras.datasets.cifar10.load_data()\n",
    "\n",
    "# Normalize data.\n",
    "x_train = x_train.astype('float32') / 255\n",
    "x_test = x_test.astype('float32') / 255\n",
    "\n",
    "# Data shapes\n",
    "print(\"x_train shape:\", x_train.shape)\n",
    "print(\"x_test shape:\", x_test.shape)\n",
    "print(\"y_train shape:\", y_train.shape)\n",
    "print(\"y_test shape:\", y_test.shape)\n",
    "print(\"\")"
   ]
  },
  {
   "cell_type": "markdown",
   "id": "7978ef20",
   "metadata": {},
   "source": [
    "## Creating a data augmentation process"
   ]
  },
  {
   "cell_type": "code",
   "execution_count": 22,
   "id": "097a558e",
   "metadata": {},
   "outputs": [
    {
     "name": "stdout",
     "output_type": "stream",
     "text": [
      "================ Building dataGen ================\n"
     ]
    }
   ],
   "source": [
    "print(\"================ Building dataGen ================\")\n",
    "datagen = ImageDataGenerator(\n",
    "    featurewise_center=False,\n",
    "    samplewise_center=False,\n",
    "    featurewise_std_normalization=False,\n",
    "    samplewise_std_normalization=False,\n",
    "    zca_whitening=False,\n",
    "    zca_epsilon=1e-06,\n",
    "    rotation_range=45,\n",
    "    width_shift_range=0.2,\n",
    "    height_shift_range=0.2,\n",
    "    horizontal_flip=True,\n",
    "    vertical_flip=False,\n",
    ")\n",
    "\n",
    "datagen.fit(x_train)"
   ]
  },
  {
   "cell_type": "markdown",
   "id": "2e66b092",
   "metadata": {},
   "source": [
    "## Building Resnet26 Teacher model "
   ]
  },
  {
   "cell_type": "code",
   "execution_count": 23,
   "id": "6d168fdc",
   "metadata": {},
   "outputs": [
    {
     "name": "stdout",
     "output_type": "stream",
     "text": [
      "============== Building Student Network Resnet8 ! =============\n"
     ]
    }
   ],
   "source": [
    "print(\"============== Building Student Network Resnet8 ! =============\")\n",
    "\n",
    "teacher = resnet_v1(input_shape=(32, 32, 3), depth= 26)"
   ]
  },
  {
   "cell_type": "markdown",
   "id": "da3265cc",
   "metadata": {},
   "source": [
    "## Building callbacks"
   ]
  },
  {
   "cell_type": "code",
   "execution_count": 24,
   "id": "2e0c96cb",
   "metadata": {},
   "outputs": [],
   "source": [
    "model_save = tf.keras.callbacks.ModelCheckpoint(\n",
    "    \"/callback/callback_save\",\n",
    "    monitor='val_loss',\n",
    "    verbose=1,\n",
    "    save_best_only=True,\n",
    "    save_weights_only=True,\n",
    "    mode='auto',\n",
    "    save_freq='epoch',\n",
    "    options=None,\n",
    "    initial_value_threshold=None,\n",
    ")\n",
    "\n",
    "lr_reduce = tf.keras.callbacks.ReduceLROnPlateau(\n",
    "    monitor='loss',\n",
    "    factor=0.1,\n",
    "    patience=10,\n",
    "    verbose=1,\n",
    "    mode='min',\n",
    "    \n",
    "    min_delta=0.0001,\n",
    "    cooldown=0,\n",
    "    min_lr=0.000001,\n",
    ")\n",
    "\n"
   ]
  },
  {
   "cell_type": "markdown",
   "id": "bc18e183",
   "metadata": {},
   "source": [
    "## Teacher scratch training"
   ]
  },
  {
   "cell_type": "code",
   "execution_count": 25,
   "id": "f4f35434",
   "metadata": {},
   "outputs": [],
   "source": [
    "BATCH_SIZE = 32\n",
    "EPOCHS = [150, 100, 70, 30]\n",
    "lr = 1\n"
   ]
  },
  {
   "cell_type": "code",
   "execution_count": null,
   "id": "d8e4cd92",
   "metadata": {
    "scrolled": true
   },
   "outputs": [
    {
     "name": "stdout",
     "output_type": "stream",
     "text": [
      "Learning rate:  0.1\n",
      "Epoch 1/150\n",
      "1562/1562 [==============================] - 255s 159ms/step - loss: 2.1600 - sparse_categorical_accuracy: 0.2788 - val_loss: 2.4074 - val_sparse_categorical_accuracy: 0.2988\n",
      "Epoch 2/150\n",
      "1562/1562 [==============================] - 254s 160ms/step - loss: 1.7887 - sparse_categorical_accuracy: 0.4014 - val_loss: 1.6775 - val_sparse_categorical_accuracy: 0.4386\n",
      "Epoch 3/150\n",
      "1562/1562 [==============================] - 254s 160ms/step - loss: 1.6061 - sparse_categorical_accuracy: 0.4707 - val_loss: 1.9700 - val_sparse_categorical_accuracy: 0.4353\n",
      "Epoch 4/150\n",
      "1562/1562 [==============================] - 243s 153ms/step - loss: 1.4926 - sparse_categorical_accuracy: 0.5253 - val_loss: 1.6668 - val_sparse_categorical_accuracy: 0.4908\n",
      "Epoch 5/150\n",
      "1562/1562 [==============================] - 220s 137ms/step - loss: 1.4250 - sparse_categorical_accuracy: 0.5613 - val_loss: 1.6842 - val_sparse_categorical_accuracy: 0.5228\n",
      "Epoch 6/150\n",
      "1562/1562 [==============================] - 216s 134ms/step - loss: 1.3644 - sparse_categorical_accuracy: 0.5909 - val_loss: 1.8002 - val_sparse_categorical_accuracy: 0.5216\n",
      "Epoch 7/150\n",
      "1562/1562 [==============================] - 223s 139ms/step - loss: 1.3210 - sparse_categorical_accuracy: 0.6147 - val_loss: 1.5737 - val_sparse_categorical_accuracy: 0.5736\n",
      "Epoch 8/150\n",
      "1562/1562 [==============================] - 217s 135ms/step - loss: 1.2944 - sparse_categorical_accuracy: 0.6323 - val_loss: 1.2998 - val_sparse_categorical_accuracy: 0.6317\n",
      "Epoch 9/150\n",
      "1562/1562 [==============================] - 218s 135ms/step - loss: 1.2699 - sparse_categorical_accuracy: 0.6443 - val_loss: 1.4824 - val_sparse_categorical_accuracy: 0.6137\n",
      "Epoch 10/150\n",
      "1562/1562 [==============================] - 231s 144ms/step - loss: 1.2644 - sparse_categorical_accuracy: 0.6505 - val_loss: 1.4911 - val_sparse_categorical_accuracy: 0.6239\n",
      "Epoch 11/150\n",
      "1562/1562 [==============================] - 256s 160ms/step - loss: 1.2588 - sparse_categorical_accuracy: 0.6576 - val_loss: 1.4058 - val_sparse_categorical_accuracy: 0.6486\n",
      "Epoch 12/150\n",
      "1562/1562 [==============================] - 217s 135ms/step - loss: 1.2306 - sparse_categorical_accuracy: 0.6691 - val_loss: 1.3845 - val_sparse_categorical_accuracy: 0.6469\n",
      "Epoch 13/150\n",
      "1562/1562 [==============================] - 219s 136ms/step - loss: 1.2266 - sparse_categorical_accuracy: 0.6729 - val_loss: 1.3912 - val_sparse_categorical_accuracy: 0.6492\n",
      "Epoch 14/150\n",
      "1562/1562 [==============================] - 217s 135ms/step - loss: 1.2312 - sparse_categorical_accuracy: 0.6761 - val_loss: 1.5385 - val_sparse_categorical_accuracy: 0.6190\n",
      "Epoch 15/150\n",
      "1562/1562 [==============================] - 215s 133ms/step - loss: 1.2282 - sparse_categorical_accuracy: 0.6788 - val_loss: 1.4678 - val_sparse_categorical_accuracy: 0.6269\n",
      "Epoch 16/150\n",
      "1562/1562 [==============================] - 216s 134ms/step - loss: 1.2272 - sparse_categorical_accuracy: 0.6806 - val_loss: 1.6235 - val_sparse_categorical_accuracy: 0.6096\n",
      "Epoch 17/150\n",
      "1562/1562 [==============================] - 222s 138ms/step - loss: 1.2140 - sparse_categorical_accuracy: 0.6880 - val_loss: 1.4193 - val_sparse_categorical_accuracy: 0.6377\n",
      "Epoch 18/150\n",
      "1562/1562 [==============================] - 255s 160ms/step - loss: 1.2083 - sparse_categorical_accuracy: 0.6912 - val_loss: 1.4538 - val_sparse_categorical_accuracy: 0.6449\n",
      "Epoch 19/150\n",
      "1562/1562 [==============================] - 255s 160ms/step - loss: 1.2063 - sparse_categorical_accuracy: 0.6931 - val_loss: 1.2060 - val_sparse_categorical_accuracy: 0.7031\n",
      "Epoch 20/150\n",
      "1562/1562 [==============================] - 255s 160ms/step - loss: 1.2103 - sparse_categorical_accuracy: 0.6959 - val_loss: 1.4236 - val_sparse_categorical_accuracy: 0.6436\n",
      "Epoch 21/150\n",
      "1562/1562 [==============================] - 258s 161ms/step - loss: 1.2074 - sparse_categorical_accuracy: 0.6998 - val_loss: 1.7869 - val_sparse_categorical_accuracy: 0.5744\n",
      "Epoch 22/150\n",
      "1562/1562 [==============================] - 257s 161ms/step - loss: 1.1975 - sparse_categorical_accuracy: 0.7029 - val_loss: 1.5883 - val_sparse_categorical_accuracy: 0.5981\n",
      "Epoch 23/150\n",
      "1562/1562 [==============================] - 259s 162ms/step - loss: 1.2077 - sparse_categorical_accuracy: 0.7012 - val_loss: 1.8577 - val_sparse_categorical_accuracy: 0.5679\n",
      "Epoch 24/150\n",
      "1562/1562 [==============================] - 256s 160ms/step - loss: 1.1984 - sparse_categorical_accuracy: 0.7040 - val_loss: 1.3693 - val_sparse_categorical_accuracy: 0.6612\n",
      "Epoch 25/150\n",
      "1562/1562 [==============================] - 228s 141ms/step - loss: 1.1975 - sparse_categorical_accuracy: 0.7048 - val_loss: 1.2538 - val_sparse_categorical_accuracy: 0.7007\n",
      "Epoch 26/150\n",
      "1562/1562 [==============================] - 215s 133ms/step - loss: 1.1970 - sparse_categorical_accuracy: 0.7082 - val_loss: 1.1809 - val_sparse_categorical_accuracy: 0.7226\n",
      "Epoch 27/150\n",
      "1562/1562 [==============================] - 227s 141ms/step - loss: 1.1795 - sparse_categorical_accuracy: 0.7148 - val_loss: 1.2248 - val_sparse_categorical_accuracy: 0.7094\n",
      "Epoch 28/150\n",
      "1562/1562 [==============================] - 220s 136ms/step - loss: 1.1903 - sparse_categorical_accuracy: 0.7095 - val_loss: 1.5582 - val_sparse_categorical_accuracy: 0.6424\n",
      "Epoch 29/150\n",
      "1562/1562 [==============================] - 218s 135ms/step - loss: 1.1822 - sparse_categorical_accuracy: 0.7106 - val_loss: 1.6587 - val_sparse_categorical_accuracy: 0.6036\n",
      "Epoch 30/150\n",
      "1562/1562 [==============================] - 219s 135ms/step - loss: 1.1780 - sparse_categorical_accuracy: 0.7162 - val_loss: 1.4648 - val_sparse_categorical_accuracy: 0.6357\n",
      "Epoch 31/150\n",
      "1562/1562 [==============================] - 250s 155ms/step - loss: 1.1768 - sparse_categorical_accuracy: 0.7162 - val_loss: 1.4077 - val_sparse_categorical_accuracy: 0.6714\n",
      "Epoch 32/150\n",
      "1562/1562 [==============================] - 219s 135ms/step - loss: 1.1845 - sparse_categorical_accuracy: 0.7142 - val_loss: 1.1483 - val_sparse_categorical_accuracy: 0.7279\n",
      "Epoch 33/150\n",
      "1562/1562 [==============================] - 221s 136ms/step - loss: 1.1806 - sparse_categorical_accuracy: 0.7193 - val_loss: 1.4728 - val_sparse_categorical_accuracy: 0.6545\n",
      "Epoch 34/150\n",
      "1562/1562 [==============================] - 218s 135ms/step - loss: 1.1821 - sparse_categorical_accuracy: 0.7160 - val_loss: 1.5917 - val_sparse_categorical_accuracy: 0.6246\n",
      "Epoch 35/150\n",
      "1562/1562 [==============================] - 219s 135ms/step - loss: 1.1710 - sparse_categorical_accuracy: 0.7229 - val_loss: 1.5523 - val_sparse_categorical_accuracy: 0.6321\n",
      "Epoch 36/150\n",
      "1562/1562 [==============================] - 219s 135ms/step - loss: 1.1733 - sparse_categorical_accuracy: 0.7221 - val_loss: 1.1923 - val_sparse_categorical_accuracy: 0.7157\n",
      "Epoch 37/150\n",
      "1562/1562 [==============================] - 220s 136ms/step - loss: 1.1712 - sparse_categorical_accuracy: 0.7219 - val_loss: 1.1518 - val_sparse_categorical_accuracy: 0.7390\n",
      "Epoch 38/150\n",
      "1562/1562 [==============================] - 221s 136ms/step - loss: 1.1735 - sparse_categorical_accuracy: 0.7239 - val_loss: 1.6514 - val_sparse_categorical_accuracy: 0.6391\n",
      "Epoch 39/150\n",
      "1562/1562 [==============================] - 217s 133ms/step - loss: 1.1678 - sparse_categorical_accuracy: 0.7235 - val_loss: 1.6923 - val_sparse_categorical_accuracy: 0.6283\n",
      "Epoch 40/150\n",
      "1562/1562 [==============================] - 221s 136ms/step - loss: 1.1625 - sparse_categorical_accuracy: 0.7262 - val_loss: 1.9716 - val_sparse_categorical_accuracy: 0.5479\n",
      "Epoch 41/150\n",
      "1509/1562 [===========================>..] - ETA: 6s - loss: 1.1707 - sparse_categorical_accuracy: 0.7246"
     ]
    }
   ],
   "source": [
    "for epoch in EPOCHS:\n",
    "    lr = lr/10 \n",
    "    print(\"Learning rate: \", lr)\n",
    "    NAME = f\"Resnet26_from_logits_datagen_lr_{lr}\"\n",
    "    tensorboard = tf.keras.callbacks.TensorBoard(log_dir = f\"logs/{NAME}\", \n",
    "                                             histogram_freq = 1)\n",
    "\n",
    "    teacher.compile(\n",
    "      optimizer = tf.keras.optimizers.SGD(learning_rate=lr, momentum=0.9),\n",
    "      loss = tf.keras.losses.SparseCategoricalCrossentropy(from_logits=True),\n",
    "      metrics=[tf.keras.metrics.SparseCategoricalAccuracy()],\n",
    "    )\n",
    "\n",
    "    # Train and evaluate on data.\n",
    "    hist = teacher.fit(datagen.flow(x_train, y_train, \n",
    "          batch_size = BATCH_SIZE),\n",
    "          epochs = epoch,\n",
    "          steps_per_epoch = len(x_train)/BATCH_SIZE,\n",
    "          validation_data =(x_test, y_test),\n",
    "          workers =64,\n",
    "          use_multiprocessing= True,\n",
    "          callbacks = [tensorboard],\n",
    "          )\n",
    "\n",
    "\n",
    "    teacher.evaluate(x_test, y_test)\n",
    "    print(\"\")\n",
    "\n",
    "    print(\" =============== History Plot ===============\")\n",
    "    plot_hist(hist, f\"Resnet26_from_logits_datagen_lr_{lr}.png\")\n",
    "\n",
    "\n",
    "    print(\"Saving model \")\n",
    "    teacher.save(f\"Resnet26_from_logits_datagen\")\n",
    "    print(\"Saving Done !\")\n",
    "\n",
    "    print(\"Saving Weights \")\n",
    "    teacher.save_weights(f\"Resnet26_from_logits_datagen.h5\")\n",
    "    print(\"Saving Done !\")\n",
    "    print(\"\")\n",
    "\n",
    "    print(\"End !\")"
   ]
  },
  {
   "cell_type": "code",
   "execution_count": null,
   "id": "dc8178a8",
   "metadata": {},
   "outputs": [],
   "source": []
  }
 ],
 "metadata": {
  "kernelspec": {
   "display_name": "Python 3 (ipykernel)",
   "language": "python",
   "name": "python3"
  },
  "language_info": {
   "codemirror_mode": {
    "name": "ipython",
    "version": 3
   },
   "file_extension": ".py",
   "mimetype": "text/x-python",
   "name": "python",
   "nbconvert_exporter": "python",
   "pygments_lexer": "ipython3",
   "version": "3.9.12"
  }
 },
 "nbformat": 4,
 "nbformat_minor": 5
}

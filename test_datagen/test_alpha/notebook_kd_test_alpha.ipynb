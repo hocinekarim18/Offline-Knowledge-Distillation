{
 "cells": [
  {
   "cell_type": "markdown",
   "id": "df4976fd",
   "metadata": {},
   "source": [
    "## Bibiliothèque"
   ]
  },
  {
   "cell_type": "code",
   "execution_count": 1,
   "id": "2da05cba",
   "metadata": {
    "scrolled": true
   },
   "outputs": [
    {
     "name": "stderr",
     "output_type": "stream",
     "text": [
      "2022-05-12 16:12:37.822455: W tensorflow/stream_executor/platform/default/dso_loader.cc:64] Could not load dynamic library 'libcudart.so.11.0'; dlerror: libcudart.so.11.0: cannot open shared object file: No such file or directory\n",
      "2022-05-12 16:12:37.822503: I tensorflow/stream_executor/cuda/cudart_stub.cc:29] Ignore above cudart dlerror if you do not have a GPU set up on your machine.\n"
     ]
    }
   ],
   "source": [
    "import numpy as np\n",
    "import tensorflow as tf\n",
    "from sklearn.model_selection import train_test_split\n",
    "import matplotlib.pyplot as plt\n",
    "from resnet import resnet_layer, resnet_v1\n",
    "from Distiller import Distiller_AdaIn, Distiller\n",
    "from tensorflow.keras.preprocessing.image import ImageDataGenerator\n",
    "\n",
    "%matplotlib inline\n",
    "seed = tf.random.set_seed(10)\n"
   ]
  },
  {
   "cell_type": "markdown",
   "id": "bf59d199",
   "metadata": {},
   "source": [
    "## Utils"
   ]
  },
  {
   "cell_type": "code",
   "execution_count": 2,
   "id": "d9ab2228",
   "metadata": {
    "scrolled": true
   },
   "outputs": [],
   "source": [
    "def plot_hist_kd(hist, figname):\n",
    "    #History\n",
    "    plt.figure(figsize=(20,7))\n",
    "    plt.subplot(121)\n",
    "    plt.plot(hist.history['sparse_categorical_accuracy'], label = \"train accur\")\n",
    "    plt.plot(hist.history['val_sparse_categorical_accuracy'], label = \"Val accur\")\n",
    "    \n",
    "    plt.xlabel('Epochs')\n",
    "    plt.ylabel('Accuracy')\n",
    "    plt.title(\"Accuracy\")\n",
    "    plt.grid()\n",
    "    plt.legend()\n",
    "\n",
    "\n",
    "    plt.subplot(122)\n",
    "    plt.plot(hist.history['student_loss'], label = \"student Loss\")\n",
    "    plt.plot(hist.history['val_student_loss'], label = \"Val loss\")\n",
    "    plt.xlabel('Epochs')\n",
    "    plt.ylabel('Student Loss')\n",
    "    plt.title(\"Loss\")\n",
    "    plt.grid()\n",
    "    plt.legend()\n",
    "    \n",
    "    plt.savefig(figname)\n",
    "    \n",
    "    plt.show()\n",
    "    \n",
    "def plot_hist(hist, figname):\n",
    "    #History\n",
    "    plt.figure(figsize=(20,7))\n",
    "    plt.subplot(121)\n",
    "    plt.plot(hist.history['sparse_categorical_accuracy'], label = \"train accur\")\n",
    "    plt.plot(hist.history['val_sparse_categorical_accuracy'], label = \"Val accur\")\n",
    "    \n",
    "    plt.xlabel('Epochs')\n",
    "    plt.ylabel('Accuracy')\n",
    "    plt.title(\"Accuracy\")\n",
    "    plt.grid()\n",
    "    plt.legend()\n",
    "\n",
    "\n",
    "    plt.subplot(122)\n",
    "    plt.plot(hist.history['loss'], label = \"Loss\")\n",
    "    plt.plot(hist.history['val_loss'], label = \"Val loss\")\n",
    "    plt.xlabel('Epochs')\n",
    "    plt.ylabel('Student Loss')\n",
    "    plt.title(\"Loss\")\n",
    "    plt.grid()\n",
    "    plt.legend()\n",
    "    \n",
    "    plt.savefig(figname)\n",
    "    \n",
    "    plt.show()"
   ]
  },
  {
   "cell_type": "markdown",
   "id": "b9b8cf7b",
   "metadata": {},
   "source": [
    "## Loading cifar10 Dataset"
   ]
  },
  {
   "cell_type": "code",
   "execution_count": 3,
   "id": "b2339918",
   "metadata": {
    "scrolled": true
   },
   "outputs": [
    {
     "name": "stdout",
     "output_type": "stream",
     "text": [
      "================ Data Loading ================\n",
      "x_train shape: (50000, 32, 32, 3)\n",
      "x_test shape: (10000, 32, 32, 3)\n",
      "y_train shape: (50000, 1)\n",
      "y_test shape: (10000, 1)\n",
      "\n"
     ]
    }
   ],
   "source": [
    "print(\"================ Data Loading ================\")\n",
    "(x_train, y_train),(x_test, y_test) = tf.keras.datasets.cifar10.load_data()\n",
    "\n",
    "# Normalize data.\n",
    "x_train = x_train.astype('float32') / 255\n",
    "x_test = x_test.astype('float32') / 255\n",
    "\n",
    "# Data shapes\n",
    "print(\"x_train shape:\", x_train.shape)\n",
    "print(\"x_test shape:\", x_test.shape)\n",
    "print(\"y_train shape:\", y_train.shape)\n",
    "print(\"y_test shape:\", y_test.shape)\n",
    "print(\"\")"
   ]
  },
  {
   "cell_type": "markdown",
   "id": "94ac01f4",
   "metadata": {},
   "source": [
    "## Loading Resnet26 Teacher model"
   ]
  },
  {
   "cell_type": "code",
   "execution_count": 4,
   "id": "a345a505",
   "metadata": {
    "scrolled": true
   },
   "outputs": [
    {
     "name": "stdout",
     "output_type": "stream",
     "text": [
      "\n",
      "================ Loading teacher model ================\n"
     ]
    },
    {
     "name": "stderr",
     "output_type": "stream",
     "text": [
      "2022-05-12 16:13:01.367121: W tensorflow/stream_executor/platform/default/dso_loader.cc:64] Could not load dynamic library 'libcuda.so.1'; dlerror: libcuda.so.1: cannot open shared object file: No such file or directory\n",
      "2022-05-12 16:13:01.367222: W tensorflow/stream_executor/cuda/cuda_driver.cc:269] failed call to cuInit: UNKNOWN ERROR (303)\n",
      "2022-05-12 16:13:01.367337: I tensorflow/stream_executor/cuda/cuda_diagnostics.cc:156] kernel driver does not appear to be running on this host (tall10): /proc/driver/nvidia/version does not exist\n",
      "2022-05-12 16:13:01.369752: I tensorflow/core/platform/cpu_feature_guard.cc:151] This TensorFlow binary is optimized with oneAPI Deep Neural Network Library (oneDNN) to use the following CPU instructions in performance-critical operations:  AVX2 AVX512F FMA\n",
      "To enable them in other operations, rebuild TensorFlow with the appropriate compiler flags.\n"
     ]
    },
    {
     "name": "stdout",
     "output_type": "stream",
     "text": [
      "Evaluation of Teacher model!\n",
      "313/313 [==============================] - 13s 37ms/step - loss: 0.4362 - sparse_categorical_accuracy: 0.9084\n",
      "\n"
     ]
    }
   ],
   "source": [
    "print(\"\")\n",
    "print(\"================ Loading teacher model ================\")\n",
    "teacher = tf.keras.models.load_model(\"Resnet26_from_logits_datagen\")\n",
    "print(\"Evaluation of Teacher model!\")\n",
    "teacher.evaluate(x_test, y_test)\n",
    "print(\"\")\n"
   ]
  },
  {
   "cell_type": "markdown",
   "id": "7978ef20",
   "metadata": {},
   "source": [
    "## Creating a data augmentation process"
   ]
  },
  {
   "cell_type": "code",
   "execution_count": 5,
   "id": "097a558e",
   "metadata": {
    "scrolled": true
   },
   "outputs": [
    {
     "name": "stdout",
     "output_type": "stream",
     "text": [
      "================ Building dataGen ================\n"
     ]
    }
   ],
   "source": [
    "print(\"================ Building dataGen ================\")\n",
    "datagen = ImageDataGenerator(\n",
    "    featurewise_center=False,\n",
    "    samplewise_center=False,\n",
    "    featurewise_std_normalization=False,\n",
    "    samplewise_std_normalization=False,\n",
    "    zca_whitening=False,\n",
    "    zca_epsilon=1e-06,\n",
    "    rotation_range=45,\n",
    "    width_shift_range=0.2,\n",
    "    height_shift_range=0.2,\n",
    "    horizontal_flip=True,\n",
    "    vertical_flip=False,\n",
    ")\n",
    "\n",
    "datagen.fit(x_train)"
   ]
  },
  {
   "cell_type": "markdown",
   "id": "da3265cc",
   "metadata": {},
   "source": [
    "## Building callbacks"
   ]
  },
  {
   "cell_type": "code",
   "execution_count": 6,
   "id": "2e0c96cb",
   "metadata": {
    "scrolled": true
   },
   "outputs": [],
   "source": [
    "model_save = tf.keras.callbacks.ModelCheckpoint(\n",
    "    \"/callback/callback_save\",\n",
    "    monitor='val_student_loss',\n",
    "    verbose=1,\n",
    "    save_best_only=True,\n",
    "    save_weights_only=True,\n",
    "    mode='auto',\n",
    "    save_freq='epoch',\n",
    "    options=None,\n",
    "    initial_value_threshold=None,\n",
    ")\n",
    "\n",
    "lr_reduce = tf.keras.callbacks.ReduceLROnPlateau(\n",
    "    monitor='val_student_loss',\n",
    "    factor=0.1,\n",
    "    patience=10,\n",
    "    verbose=1,\n",
    "    mode='min',\n",
    "    \n",
    "    min_delta=0.0001,\n",
    "    cooldown=0,\n",
    "    min_lr=0.000001,\n",
    ")\n"
   ]
  },
  {
   "cell_type": "markdown",
   "id": "aa7b3cc5",
   "metadata": {},
   "source": [
    "## Knowledge distillation"
   ]
  },
  {
   "cell_type": "code",
   "execution_count": 7,
   "id": "1fb7877f",
   "metadata": {
    "scrolled": true
   },
   "outputs": [],
   "source": [
    "BATCH_SIZE = 32\n",
    "EPOCHS = 100\n",
    "A = [ 0.9]\n",
    "lr = 0.1\n"
   ]
  },
  {
   "cell_type": "code",
   "execution_count": 8,
   "id": "afc06aa2",
   "metadata": {
    "scrolled": true
   },
   "outputs": [
    {
     "name": "stdout",
     "output_type": "stream",
     "text": [
      "Epoch 1/100\n",
      "1562/1562 [==============================] - 87s 53ms/step - sparse_categorical_accuracy: 0.3457 - student_loss: 1.7681 - loss: 1.6677 - val_sparse_categorical_accuracy: 0.3624 - val_student_loss: 3.6844 - lr: 0.1000\n",
      "Epoch 2/100\n",
      "1562/1562 [==============================] - 85s 53ms/step - sparse_categorical_accuracy: 0.4717 - student_loss: 1.4605 - loss: 1.3802 - val_sparse_categorical_accuracy: 0.4623 - val_student_loss: 2.4682 - lr: 0.1000\n",
      "Epoch 3/100\n",
      "1562/1562 [==============================] - 85s 53ms/step - sparse_categorical_accuracy: 0.5291 - student_loss: 1.3195 - loss: 1.2476 - val_sparse_categorical_accuracy: 0.5139 - val_student_loss: 2.4377 - lr: 0.1000\n",
      "Epoch 4/100\n",
      "1562/1562 [==============================] - 89s 55ms/step - sparse_categorical_accuracy: 0.5630 - student_loss: 1.2341 - loss: 1.1674 - val_sparse_categorical_accuracy: 0.4890 - val_student_loss: 2.5252 - lr: 0.1000\n",
      "Epoch 5/100\n",
      "1562/1562 [==============================] - 85s 53ms/step - sparse_categorical_accuracy: 0.5883 - student_loss: 1.1713 - loss: 1.1074 - val_sparse_categorical_accuracy: 0.4953 - val_student_loss: 2.3962 - lr: 0.1000\n",
      "Epoch 6/100\n",
      "1562/1562 [==============================] - 85s 53ms/step - sparse_categorical_accuracy: 0.6056 - student_loss: 1.1105 - loss: 1.0506 - val_sparse_categorical_accuracy: 0.5491 - val_student_loss: 2.5246 - lr: 0.1000\n",
      "Epoch 7/100\n",
      "1562/1562 [==============================] - 90s 56ms/step - sparse_categorical_accuracy: 0.6265 - student_loss: 1.0635 - loss: 1.0062 - val_sparse_categorical_accuracy: 0.5814 - val_student_loss: 2.3701 - lr: 0.1000\n",
      "Epoch 8/100\n",
      "1562/1562 [==============================] - 86s 53ms/step - sparse_categorical_accuracy: 0.6395 - student_loss: 1.0309 - loss: 0.9754 - val_sparse_categorical_accuracy: 0.6119 - val_student_loss: 2.4952 - lr: 0.1000\n",
      "Epoch 9/100\n",
      "1562/1562 [==============================] - 87s 54ms/step - sparse_categorical_accuracy: 0.6491 - student_loss: 1.0041 - loss: 0.9497 - val_sparse_categorical_accuracy: 0.5511 - val_student_loss: 2.4440 - lr: 0.1000\n",
      "Epoch 10/100\n",
      "1562/1562 [==============================] - 87s 54ms/step - sparse_categorical_accuracy: 0.6614 - student_loss: 0.9713 - loss: 0.9191 - val_sparse_categorical_accuracy: 0.6594 - val_student_loss: 1.5708 - lr: 0.1000\n",
      "Epoch 11/100\n",
      "1562/1562 [==============================] - 86s 54ms/step - sparse_categorical_accuracy: 0.6636 - student_loss: 0.9630 - loss: 0.9107 - val_sparse_categorical_accuracy: 0.6926 - val_student_loss: 1.3902 - lr: 0.1000\n",
      "Epoch 12/100\n",
      "1562/1562 [==============================] - 88s 55ms/step - sparse_categorical_accuracy: 0.6712 - student_loss: 0.9379 - loss: 0.8865 - val_sparse_categorical_accuracy: 0.6423 - val_student_loss: 2.4060 - lr: 0.1000\n",
      "Epoch 13/100\n",
      "1562/1562 [==============================] - 90s 56ms/step - sparse_categorical_accuracy: 0.6794 - student_loss: 0.9167 - loss: 0.8665 - val_sparse_categorical_accuracy: 0.6787 - val_student_loss: 1.4432 - lr: 0.1000\n",
      "Epoch 14/100\n",
      "1562/1562 [==============================] - 87s 54ms/step - sparse_categorical_accuracy: 0.6865 - student_loss: 0.9039 - loss: 0.8546 - val_sparse_categorical_accuracy: 0.6973 - val_student_loss: 2.4075 - lr: 0.1000\n",
      "Epoch 15/100\n",
      "1562/1562 [==============================] - 87s 54ms/step - sparse_categorical_accuracy: 0.6887 - student_loss: 0.8977 - loss: 0.8483 - val_sparse_categorical_accuracy: 0.6567 - val_student_loss: 2.4572 - lr: 0.1000\n",
      "Epoch 16/100\n",
      "1562/1562 [==============================] - 87s 54ms/step - sparse_categorical_accuracy: 0.6954 - student_loss: 0.8806 - loss: 0.8324 - val_sparse_categorical_accuracy: 0.7176 - val_student_loss: 2.4297 - lr: 0.1000\n",
      "Epoch 17/100\n",
      "1562/1562 [==============================] - 86s 53ms/step - sparse_categorical_accuracy: 0.7000 - student_loss: 0.8687 - loss: 0.8211 - val_sparse_categorical_accuracy: 0.6456 - val_student_loss: 2.4263 - lr: 0.1000\n",
      "Epoch 18/100\n",
      "1562/1562 [==============================] - 92s 57ms/step - sparse_categorical_accuracy: 0.7044 - student_loss: 0.8544 - loss: 0.8076 - val_sparse_categorical_accuracy: 0.6085 - val_student_loss: 3.3752 - lr: 0.1000\n",
      "Epoch 19/100\n",
      "1562/1562 [==============================] - 91s 57ms/step - sparse_categorical_accuracy: 0.7075 - student_loss: 0.8492 - loss: 0.8022 - val_sparse_categorical_accuracy: 0.7050 - val_student_loss: 3.4739 - lr: 0.1000\n",
      "Epoch 20/100\n",
      "1562/1562 [==============================] - 87s 54ms/step - sparse_categorical_accuracy: 0.7075 - student_loss: 0.8407 - loss: 0.7944 - val_sparse_categorical_accuracy: 0.7421 - val_student_loss: 2.3957 - lr: 0.1000\n",
      "Epoch 21/100\n",
      "1563/1562 [==============================] - ETA: 0s - sparse_categorical_accuracy: 0.7112 - student_loss: 0.8358 - loss: 0.7896\n",
      "Epoch 21: ReduceLROnPlateau reducing learning rate to 0.010000000149011612.\n",
      "1562/1562 [==============================] - 87s 54ms/step - sparse_categorical_accuracy: 0.7112 - student_loss: 0.8359 - loss: 0.7897 - val_sparse_categorical_accuracy: 0.6772 - val_student_loss: 2.4750 - lr: 0.1000\n",
      "Epoch 22/100\n",
      "1562/1562 [==============================] - 89s 55ms/step - sparse_categorical_accuracy: 0.7448 - student_loss: 0.7330 - loss: 0.6933 - val_sparse_categorical_accuracy: 0.7529 - val_student_loss: 2.3864 - lr: 0.0100\n",
      "Epoch 23/100\n",
      "1562/1562 [==============================] - 89s 55ms/step - sparse_categorical_accuracy: 0.7521 - student_loss: 0.7175 - loss: 0.6781 - val_sparse_categorical_accuracy: 0.7502 - val_student_loss: 2.4244 - lr: 0.0100\n",
      "Epoch 24/100\n",
      "1562/1562 [==============================] - 87s 54ms/step - sparse_categorical_accuracy: 0.7578 - student_loss: 0.7010 - loss: 0.6629 - val_sparse_categorical_accuracy: 0.7595 - val_student_loss: 2.4175 - lr: 0.0100\n",
      "Epoch 25/100\n",
      "1562/1562 [==============================] - 88s 55ms/step - sparse_categorical_accuracy: 0.7556 - student_loss: 0.7002 - loss: 0.6616 - val_sparse_categorical_accuracy: 0.7613 - val_student_loss: 2.4165 - lr: 0.0100\n",
      "Epoch 26/100\n",
      "1562/1562 [==============================] - 88s 54ms/step - sparse_categorical_accuracy: 0.7606 - student_loss: 0.6924 - loss: 0.6546 - val_sparse_categorical_accuracy: 0.7605 - val_student_loss: 1.5225 - lr: 0.0100\n",
      "Epoch 27/100\n",
      "1562/1562 [==============================] - 87s 53ms/step - sparse_categorical_accuracy: 0.7615 - student_loss: 0.6884 - loss: 0.6507 - val_sparse_categorical_accuracy: 0.7596 - val_student_loss: 2.4109 - lr: 0.0100\n",
      "Epoch 28/100\n",
      "1562/1562 [==============================] - 88s 54ms/step - sparse_categorical_accuracy: 0.7644 - student_loss: 0.6813 - loss: 0.6441 - val_sparse_categorical_accuracy: 0.7494 - val_student_loss: 2.4325 - lr: 0.0100\n",
      "Epoch 29/100\n",
      "1562/1562 [==============================] - 87s 54ms/step - sparse_categorical_accuracy: 0.7648 - student_loss: 0.6760 - loss: 0.6389 - val_sparse_categorical_accuracy: 0.7615 - val_student_loss: 2.4393 - lr: 0.0100\n",
      "Epoch 30/100\n",
      "1562/1562 [==============================] - 90s 56ms/step - sparse_categorical_accuracy: 0.7635 - student_loss: 0.6819 - loss: 0.6442 - val_sparse_categorical_accuracy: 0.7602 - val_student_loss: 2.4479 - lr: 0.0100\n",
      "Epoch 31/100\n",
      "1563/1562 [==============================] - ETA: 0s - sparse_categorical_accuracy: 0.7669 - student_loss: 0.6739 - loss: 0.6371\n",
      "Epoch 31: ReduceLROnPlateau reducing learning rate to 0.0009999999776482583.\n",
      "1562/1562 [==============================] - 91s 56ms/step - sparse_categorical_accuracy: 0.7669 - student_loss: 0.6740 - loss: 0.6372 - val_sparse_categorical_accuracy: 0.7662 - val_student_loss: 2.3882 - lr: 0.0100\n",
      "Epoch 32/100\n",
      "1562/1562 [==============================] - 87s 54ms/step - sparse_categorical_accuracy: 0.7709 - student_loss: 0.6614 - loss: 0.6255 - val_sparse_categorical_accuracy: 0.7684 - val_student_loss: 2.4154 - lr: 1.0000e-03\n",
      "Epoch 33/100\n",
      "1562/1562 [==============================] - 88s 54ms/step - sparse_categorical_accuracy: 0.7699 - student_loss: 0.6613 - loss: 0.6251 - val_sparse_categorical_accuracy: 0.7642 - val_student_loss: 2.4224 - lr: 1.0000e-03\n",
      "Epoch 34/100\n",
      "1562/1562 [==============================] - 88s 54ms/step - sparse_categorical_accuracy: 0.7733 - student_loss: 0.6583 - loss: 0.6222 - val_sparse_categorical_accuracy: 0.7680 - val_student_loss: 2.4197 - lr: 1.0000e-03\n"
     ]
    },
    {
     "name": "stdout",
     "output_type": "stream",
     "text": [
      "Epoch 35/100\n",
      "1562/1562 [==============================] - 88s 54ms/step - sparse_categorical_accuracy: 0.7738 - student_loss: 0.6583 - loss: 0.6219 - val_sparse_categorical_accuracy: 0.7706 - val_student_loss: 2.4286 - lr: 1.0000e-03\n",
      "Epoch 36/100\n",
      "1562/1562 [==============================] - 89s 55ms/step - sparse_categorical_accuracy: 0.7730 - student_loss: 0.6561 - loss: 0.6203 - val_sparse_categorical_accuracy: 0.7686 - val_student_loss: 2.4253 - lr: 1.0000e-03\n",
      "Epoch 37/100\n",
      "1562/1562 [==============================] - 90s 55ms/step - sparse_categorical_accuracy: 0.7691 - student_loss: 0.6616 - loss: 0.6250 - val_sparse_categorical_accuracy: 0.7639 - val_student_loss: 2.4235 - lr: 1.0000e-03\n",
      "Epoch 38/100\n",
      "1562/1562 [==============================] - 89s 55ms/step - sparse_categorical_accuracy: 0.7709 - student_loss: 0.6630 - loss: 0.6266 - val_sparse_categorical_accuracy: 0.7647 - val_student_loss: 2.4345 - lr: 1.0000e-03\n",
      "Epoch 39/100\n",
      "1562/1562 [==============================] - 88s 54ms/step - sparse_categorical_accuracy: 0.7715 - student_loss: 0.6589 - loss: 0.6227 - val_sparse_categorical_accuracy: 0.7679 - val_student_loss: 2.4240 - lr: 1.0000e-03\n",
      "Epoch 40/100\n",
      "1562/1562 [==============================] - 89s 55ms/step - sparse_categorical_accuracy: 0.7704 - student_loss: 0.6612 - loss: 0.6247 - val_sparse_categorical_accuracy: 0.7650 - val_student_loss: 2.4311 - lr: 1.0000e-03\n",
      "Epoch 41/100\n",
      "1563/1562 [==============================] - ETA: 0s - sparse_categorical_accuracy: 0.7712 - student_loss: 0.6579 - loss: 0.6216\n",
      "Epoch 41: ReduceLROnPlateau reducing learning rate to 9.999999310821295e-05.\n",
      "1562/1562 [==============================] - 90s 56ms/step - sparse_categorical_accuracy: 0.7712 - student_loss: 0.6580 - loss: 0.6218 - val_sparse_categorical_accuracy: 0.7629 - val_student_loss: 2.4237 - lr: 1.0000e-03\n",
      "Epoch 42/100\n",
      "1562/1562 [==============================] - 89s 55ms/step - sparse_categorical_accuracy: 0.7749 - student_loss: 0.6488 - loss: 0.6137 - val_sparse_categorical_accuracy: 0.7678 - val_student_loss: 2.4248 - lr: 1.0000e-04\n",
      "Epoch 43/100\n",
      "1562/1562 [==============================] - 88s 54ms/step - sparse_categorical_accuracy: 0.7750 - student_loss: 0.6517 - loss: 0.6162 - val_sparse_categorical_accuracy: 0.7666 - val_student_loss: 2.4215 - lr: 1.0000e-04\n",
      "Epoch 44/100\n",
      "1562/1562 [==============================] - 89s 55ms/step - sparse_categorical_accuracy: 0.7724 - student_loss: 0.6571 - loss: 0.6210 - val_sparse_categorical_accuracy: 0.7670 - val_student_loss: 2.4255 - lr: 1.0000e-04\n",
      "Epoch 45/100\n",
      "1562/1562 [==============================] - 91s 56ms/step - sparse_categorical_accuracy: 0.7733 - student_loss: 0.6562 - loss: 0.6202 - val_sparse_categorical_accuracy: 0.7668 - val_student_loss: 2.4238 - lr: 1.0000e-04\n",
      "Epoch 46/100\n",
      "1562/1562 [==============================] - 90s 55ms/step - sparse_categorical_accuracy: 0.7706 - student_loss: 0.6584 - loss: 0.6222 - val_sparse_categorical_accuracy: 0.7673 - val_student_loss: 2.4286 - lr: 1.0000e-04\n",
      "Epoch 47/100\n",
      "1562/1562 [==============================] - 90s 55ms/step - sparse_categorical_accuracy: 0.7720 - student_loss: 0.6557 - loss: 0.6197 - val_sparse_categorical_accuracy: 0.7635 - val_student_loss: 2.4241 - lr: 1.0000e-04\n",
      "Epoch 48/100\n",
      "1562/1562 [==============================] - 90s 55ms/step - sparse_categorical_accuracy: 0.7732 - student_loss: 0.6539 - loss: 0.6181 - val_sparse_categorical_accuracy: 0.7687 - val_student_loss: 2.4196 - lr: 1.0000e-04\n",
      "Epoch 49/100\n",
      "1562/1562 [==============================] - 88s 54ms/step - sparse_categorical_accuracy: 0.7699 - student_loss: 0.6548 - loss: 0.6189 - val_sparse_categorical_accuracy: 0.7669 - val_student_loss: 2.4234 - lr: 1.0000e-04\n",
      "Epoch 50/100\n",
      "1562/1562 [==============================] - 88s 54ms/step - sparse_categorical_accuracy: 0.7723 - student_loss: 0.6565 - loss: 0.6204 - val_sparse_categorical_accuracy: 0.7659 - val_student_loss: 2.4257 - lr: 1.0000e-04\n",
      "Epoch 51/100\n",
      "1563/1562 [==============================] - ETA: 0s - sparse_categorical_accuracy: 0.7727 - student_loss: 0.6547 - loss: 0.6187\n",
      "Epoch 51: ReduceLROnPlateau reducing learning rate to 9.999999019782991e-06.\n",
      "1562/1562 [==============================] - 87s 54ms/step - sparse_categorical_accuracy: 0.7727 - student_loss: 0.6547 - loss: 0.6187 - val_sparse_categorical_accuracy: 0.7660 - val_student_loss: 2.4261 - lr: 1.0000e-04\n",
      "Epoch 52/100\n",
      "1562/1562 [==============================] - 89s 55ms/step - sparse_categorical_accuracy: 0.7742 - student_loss: 0.6556 - loss: 0.6196 - val_sparse_categorical_accuracy: 0.7660 - val_student_loss: 2.4217 - lr: 1.0000e-05\n",
      "Epoch 53/100\n",
      "1562/1562 [==============================] - 89s 55ms/step - sparse_categorical_accuracy: 0.7725 - student_loss: 0.6526 - loss: 0.6168 - val_sparse_categorical_accuracy: 0.7657 - val_student_loss: 2.4262 - lr: 1.0000e-05\n",
      "Epoch 54/100\n",
      "1562/1562 [==============================] - 94s 58ms/step - sparse_categorical_accuracy: 0.7752 - student_loss: 0.6549 - loss: 0.6189 - val_sparse_categorical_accuracy: 0.7668 - val_student_loss: 2.4243 - lr: 1.0000e-05\n",
      "Epoch 55/100\n",
      "1562/1562 [==============================] - 92s 57ms/step - sparse_categorical_accuracy: 0.7748 - student_loss: 0.6521 - loss: 0.6163 - val_sparse_categorical_accuracy: 0.7659 - val_student_loss: 2.4284 - lr: 1.0000e-05\n",
      "Epoch 56/100\n",
      "1562/1562 [==============================] - 90s 55ms/step - sparse_categorical_accuracy: 0.7733 - student_loss: 0.6569 - loss: 0.6208 - val_sparse_categorical_accuracy: 0.7666 - val_student_loss: 2.4258 - lr: 1.0000e-05\n",
      "Epoch 57/100\n",
      "1562/1562 [==============================] - 89s 55ms/step - sparse_categorical_accuracy: 0.7742 - student_loss: 0.6540 - loss: 0.6183 - val_sparse_categorical_accuracy: 0.7656 - val_student_loss: 2.4265 - lr: 1.0000e-05\n",
      "Epoch 58/100\n",
      "1562/1562 [==============================] - 90s 55ms/step - sparse_categorical_accuracy: 0.7729 - student_loss: 0.6519 - loss: 0.6164 - val_sparse_categorical_accuracy: 0.7670 - val_student_loss: 2.4274 - lr: 1.0000e-05\n",
      "Epoch 59/100\n",
      "1562/1562 [==============================] - 90s 55ms/step - sparse_categorical_accuracy: 0.7741 - student_loss: 0.6543 - loss: 0.6184 - val_sparse_categorical_accuracy: 0.7667 - val_student_loss: 2.4236 - lr: 1.0000e-05\n",
      "Epoch 60/100\n",
      "1562/1562 [==============================] - 90s 55ms/step - sparse_categorical_accuracy: 0.7705 - student_loss: 0.6590 - loss: 0.6223 - val_sparse_categorical_accuracy: 0.7665 - val_student_loss: 2.4263 - lr: 1.0000e-05\n",
      "Epoch 61/100\n",
      "1563/1562 [==============================] - ETA: 0s - sparse_categorical_accuracy: 0.7735 - student_loss: 0.6533 - loss: 0.6175\n",
      "Epoch 61: ReduceLROnPlateau reducing learning rate to 1e-06.\n",
      "1562/1562 [==============================] - 90s 55ms/step - sparse_categorical_accuracy: 0.7735 - student_loss: 0.6533 - loss: 0.6175 - val_sparse_categorical_accuracy: 0.7674 - val_student_loss: 2.4232 - lr: 1.0000e-05\n",
      "Epoch 62/100\n",
      "1562/1562 [==============================] - 90s 55ms/step - sparse_categorical_accuracy: 0.7739 - student_loss: 0.6555 - loss: 0.6195 - val_sparse_categorical_accuracy: 0.7692 - val_student_loss: 2.4294 - lr: 1.0000e-06\n",
      "Epoch 63/100\n",
      "1562/1562 [==============================] - 90s 55ms/step - sparse_categorical_accuracy: 0.7745 - student_loss: 0.6501 - loss: 0.6147 - val_sparse_categorical_accuracy: 0.7667 - val_student_loss: 2.4235 - lr: 1.0000e-06\n",
      "Epoch 64/100\n",
      "1562/1562 [==============================] - 90s 55ms/step - sparse_categorical_accuracy: 0.7713 - student_loss: 0.6570 - loss: 0.6208 - val_sparse_categorical_accuracy: 0.7667 - val_student_loss: 2.4297 - lr: 1.0000e-06\n",
      "Epoch 65/100\n",
      "1562/1562 [==============================] - 90s 56ms/step - sparse_categorical_accuracy: 0.7733 - student_loss: 0.6532 - loss: 0.6172 - val_sparse_categorical_accuracy: 0.7660 - val_student_loss: 2.4261 - lr: 1.0000e-06\n",
      "Epoch 66/100\n",
      "1562/1562 [==============================] - 89s 55ms/step - sparse_categorical_accuracy: 0.7719 - student_loss: 0.6553 - loss: 0.6193 - val_sparse_categorical_accuracy: 0.7644 - val_student_loss: 2.4266 - lr: 1.0000e-06\n",
      "Epoch 67/100\n"
     ]
    },
    {
     "name": "stdout",
     "output_type": "stream",
     "text": [
      "1562/1562 [==============================] - 90s 55ms/step - sparse_categorical_accuracy: 0.7699 - student_loss: 0.6589 - loss: 0.6228 - val_sparse_categorical_accuracy: 0.7655 - val_student_loss: 2.4254 - lr: 1.0000e-06\n",
      "Epoch 68/100\n",
      "1562/1562 [==============================] - 87s 54ms/step - sparse_categorical_accuracy: 0.7723 - student_loss: 0.6551 - loss: 0.6192 - val_sparse_categorical_accuracy: 0.7659 - val_student_loss: 2.4301 - lr: 1.0000e-06\n",
      "Epoch 69/100\n",
      "1562/1562 [==============================] - 88s 54ms/step - sparse_categorical_accuracy: 0.7730 - student_loss: 0.6578 - loss: 0.6217 - val_sparse_categorical_accuracy: 0.7671 - val_student_loss: 2.4262 - lr: 1.0000e-06\n",
      "Epoch 70/100\n",
      "1562/1562 [==============================] - 92s 57ms/step - sparse_categorical_accuracy: 0.7717 - student_loss: 0.6580 - loss: 0.6217 - val_sparse_categorical_accuracy: 0.7680 - val_student_loss: 2.4265 - lr: 1.0000e-06\n",
      "Epoch 71/100\n",
      "1562/1562 [==============================] - 89s 54ms/step - sparse_categorical_accuracy: 0.7725 - student_loss: 0.6547 - loss: 0.6188 - val_sparse_categorical_accuracy: 0.7680 - val_student_loss: 2.4257 - lr: 1.0000e-06\n",
      "Epoch 72/100\n",
      "1562/1562 [==============================] - 92s 56ms/step - sparse_categorical_accuracy: 0.7713 - student_loss: 0.6603 - loss: 0.6237 - val_sparse_categorical_accuracy: 0.7670 - val_student_loss: 2.4252 - lr: 1.0000e-06\n",
      "Epoch 73/100\n",
      "1562/1562 [==============================] - 92s 56ms/step - sparse_categorical_accuracy: 0.7734 - student_loss: 0.6513 - loss: 0.6158 - val_sparse_categorical_accuracy: 0.7660 - val_student_loss: 2.4181 - lr: 1.0000e-06\n",
      "Epoch 74/100\n",
      "1562/1562 [==============================] - 91s 56ms/step - sparse_categorical_accuracy: 0.7734 - student_loss: 0.6550 - loss: 0.6191 - val_sparse_categorical_accuracy: 0.7672 - val_student_loss: 2.4325 - lr: 1.0000e-06\n",
      "Epoch 75/100\n",
      "1562/1562 [==============================] - 92s 56ms/step - sparse_categorical_accuracy: 0.7745 - student_loss: 0.6522 - loss: 0.6164 - val_sparse_categorical_accuracy: 0.7659 - val_student_loss: 2.4271 - lr: 1.0000e-06\n",
      "Epoch 76/100\n",
      "1562/1562 [==============================] - 94s 58ms/step - sparse_categorical_accuracy: 0.7723 - student_loss: 0.6550 - loss: 0.6191 - val_sparse_categorical_accuracy: 0.7652 - val_student_loss: 2.4257 - lr: 1.0000e-06\n",
      "Epoch 77/100\n",
      "1562/1562 [==============================] - 91s 56ms/step - sparse_categorical_accuracy: 0.7731 - student_loss: 0.6572 - loss: 0.6211 - val_sparse_categorical_accuracy: 0.7660 - val_student_loss: 2.4281 - lr: 1.0000e-06\n",
      "Epoch 78/100\n",
      "1562/1562 [==============================] - 93s 57ms/step - sparse_categorical_accuracy: 0.7733 - student_loss: 0.6523 - loss: 0.6169 - val_sparse_categorical_accuracy: 0.7677 - val_student_loss: 2.4273 - lr: 1.0000e-06\n",
      "Epoch 79/100\n",
      "1562/1562 [==============================] - 94s 58ms/step - sparse_categorical_accuracy: 0.7736 - student_loss: 0.6503 - loss: 0.6148 - val_sparse_categorical_accuracy: 0.7671 - val_student_loss: 2.4238 - lr: 1.0000e-06\n",
      "Epoch 80/100\n",
      "1562/1562 [==============================] - 93s 57ms/step - sparse_categorical_accuracy: 0.7717 - student_loss: 0.6545 - loss: 0.6186 - val_sparse_categorical_accuracy: 0.7659 - val_student_loss: 2.4282 - lr: 1.0000e-06\n",
      "Epoch 81/100\n",
      "1562/1562 [==============================] - 93s 57ms/step - sparse_categorical_accuracy: 0.7737 - student_loss: 0.6567 - loss: 0.6205 - val_sparse_categorical_accuracy: 0.7688 - val_student_loss: 2.4265 - lr: 1.0000e-06\n",
      "Epoch 82/100\n",
      "1562/1562 [==============================] - 92s 57ms/step - sparse_categorical_accuracy: 0.7720 - student_loss: 0.6532 - loss: 0.6174 - val_sparse_categorical_accuracy: 0.7690 - val_student_loss: 2.4278 - lr: 1.0000e-06\n",
      "Epoch 83/100\n",
      "1562/1562 [==============================] - 91s 56ms/step - sparse_categorical_accuracy: 0.7715 - student_loss: 0.6590 - loss: 0.6225 - val_sparse_categorical_accuracy: 0.7667 - val_student_loss: 2.4260 - lr: 1.0000e-06\n",
      "Epoch 84/100\n",
      "1562/1562 [==============================] - 91s 56ms/step - sparse_categorical_accuracy: 0.7717 - student_loss: 0.6585 - loss: 0.6221 - val_sparse_categorical_accuracy: 0.7678 - val_student_loss: 2.4244 - lr: 1.0000e-06\n",
      "Epoch 85/100\n",
      "1562/1562 [==============================] - 91s 56ms/step - sparse_categorical_accuracy: 0.7729 - student_loss: 0.6540 - loss: 0.6181 - val_sparse_categorical_accuracy: 0.7673 - val_student_loss: 2.4262 - lr: 1.0000e-06\n",
      "Epoch 86/100\n",
      "1562/1562 [==============================] - 91s 56ms/step - sparse_categorical_accuracy: 0.7749 - student_loss: 0.6498 - loss: 0.6145 - val_sparse_categorical_accuracy: 0.7672 - val_student_loss: 2.4266 - lr: 1.0000e-06\n",
      "Epoch 87/100\n",
      "1562/1562 [==============================] - 94s 58ms/step - sparse_categorical_accuracy: 0.7724 - student_loss: 0.6571 - loss: 0.6209 - val_sparse_categorical_accuracy: 0.7645 - val_student_loss: 2.4289 - lr: 1.0000e-06\n",
      "Epoch 88/100\n",
      "1562/1562 [==============================] - 90s 56ms/step - sparse_categorical_accuracy: 0.7735 - student_loss: 0.6547 - loss: 0.6187 - val_sparse_categorical_accuracy: 0.7676 - val_student_loss: 2.4270 - lr: 1.0000e-06\n",
      "Epoch 89/100\n",
      "1562/1562 [==============================] - 90s 56ms/step - sparse_categorical_accuracy: 0.7721 - student_loss: 0.6576 - loss: 0.6212 - val_sparse_categorical_accuracy: 0.7642 - val_student_loss: 2.4226 - lr: 1.0000e-06\n",
      "Epoch 90/100\n",
      "1562/1562 [==============================] - 93s 57ms/step - sparse_categorical_accuracy: 0.7734 - student_loss: 0.6550 - loss: 0.6190 - val_sparse_categorical_accuracy: 0.7657 - val_student_loss: 2.4273 - lr: 1.0000e-06\n",
      "Epoch 91/100\n",
      "1562/1562 [==============================] - 93s 57ms/step - sparse_categorical_accuracy: 0.7731 - student_loss: 0.6578 - loss: 0.6215 - val_sparse_categorical_accuracy: 0.7679 - val_student_loss: 2.4303 - lr: 1.0000e-06\n",
      "Epoch 92/100\n",
      "1562/1562 [==============================] - 91s 56ms/step - sparse_categorical_accuracy: 0.7731 - student_loss: 0.6543 - loss: 0.6186 - val_sparse_categorical_accuracy: 0.7671 - val_student_loss: 2.4276 - lr: 1.0000e-06\n",
      "Epoch 93/100\n",
      "1562/1562 [==============================] - 91s 56ms/step - sparse_categorical_accuracy: 0.7746 - student_loss: 0.6499 - loss: 0.6146 - val_sparse_categorical_accuracy: 0.7661 - val_student_loss: 2.4244 - lr: 1.0000e-06\n",
      "Epoch 94/100\n",
      "1562/1562 [==============================] - 91s 56ms/step - sparse_categorical_accuracy: 0.7722 - student_loss: 0.6566 - loss: 0.6206 - val_sparse_categorical_accuracy: 0.7673 - val_student_loss: 2.4283 - lr: 1.0000e-06\n",
      "Epoch 95/100\n",
      "1562/1562 [==============================] - 91s 56ms/step - sparse_categorical_accuracy: 0.7737 - student_loss: 0.6565 - loss: 0.6204 - val_sparse_categorical_accuracy: 0.7666 - val_student_loss: 2.4259 - lr: 1.0000e-06\n",
      "Epoch 96/100\n",
      "1562/1562 [==============================] - 92s 56ms/step - sparse_categorical_accuracy: 0.7719 - student_loss: 0.6550 - loss: 0.6191 - val_sparse_categorical_accuracy: 0.7669 - val_student_loss: 2.4251 - lr: 1.0000e-06\n",
      "Epoch 97/100\n",
      "1562/1562 [==============================] - 92s 56ms/step - sparse_categorical_accuracy: 0.7762 - student_loss: 0.6481 - loss: 0.6129 - val_sparse_categorical_accuracy: 0.7665 - val_student_loss: 2.4245 - lr: 1.0000e-06\n",
      "Epoch 98/100\n",
      "1562/1562 [==============================] - 91s 55ms/step - sparse_categorical_accuracy: 0.7735 - student_loss: 0.6546 - loss: 0.6186 - val_sparse_categorical_accuracy: 0.7673 - val_student_loss: 2.4285 - lr: 1.0000e-06\n",
      "Epoch 99/100\n",
      "1562/1562 [==============================] - 94s 58ms/step - sparse_categorical_accuracy: 0.7732 - student_loss: 0.6542 - loss: 0.6184 - val_sparse_categorical_accuracy: 0.7674 - val_student_loss: 2.4315 - lr: 1.0000e-06\n",
      "Epoch 100/100\n",
      "1562/1562 [==============================] - 93s 57ms/step - sparse_categorical_accuracy: 0.7715 - student_loss: 0.6581 - loss: 0.6217 - val_sparse_categorical_accuracy: 0.7650 - val_student_loss: 2.4236 - lr: 1.0000e-06\n",
      "313/313 [==============================] - 4s 12ms/step - sparse_categorical_accuracy: 0.7650 - student_loss: 1.6742\n",
      "\n",
      " =============== History Plot ===============\n"
     ]
    },
    {
     "data": {
      "image/png": "[encoded data removed]",
      "text/plain": [
       "<Figure size 1440x504 with 2 Axes>"
      ]
     },
     "metadata": {
      "needs_background": "light"
     },
     "output_type": "display_data"
    },
    {
     "name": "stdout",
     "output_type": "stream",
     "text": [
      "Saving model \n",
      "WARNING:tensorflow:Compiled the loaded model, but the compiled metrics have yet to be built. `model.compile_metrics` will be empty until you train or evaluate the model.\n"
     ]
    },
    {
     "name": "stderr",
     "output_type": "stream",
     "text": [
      "2022-05-12 18:43:09.734188: W tensorflow/python/util/util.cc:368] Sets are not currently considered sequences, but this may change in the future, so consider avoiding using them.\n"
     ]
    },
    {
     "name": "stdout",
     "output_type": "stream",
     "text": [
      "INFO:tensorflow:Assets written to: Resnet8_KD_notebook_alpha0.9/assets\n",
      "Saving Done !\n",
      "Saving Weights \n",
      "Saving Done !\n",
      "\n",
      "End !\n"
     ]
    }
   ],
   "source": [
    "for a in A:\n",
    "    # Configuration du tensorboard\n",
    "    NAME = f\"Resnet8_kd_alpha_{a}_temp_{5}\"\n",
    "    tensorboard = tf.keras.callbacks.TensorBoard(log_dir = f\"logs/{NAME}\", \n",
    "                                                 histogram_freq = 1)\n",
    "    \n",
    "    student = resnet_v1(input_shape=(32, 32, 3), depth= 8)\n",
    "\n",
    "    dist = Distiller(teacher, student)\n",
    "\n",
    "    dist.compile(\n",
    "        optimizer = tf.keras.optimizers.SGD(learning_rate=lr, momentum=0.9),\n",
    "        metrics = [tf.keras.metrics.SparseCategoricalAccuracy()],\n",
    "        distillation_loss_fn = tf.keras.losses.KLDivergence(),\n",
    "        student_loss_fn = tf.keras.losses.SparseCategoricalCrossentropy(from_logits=False),\n",
    "        alpha = a,\n",
    "        temperature = 5)\n",
    "\n",
    "    # Train and evaluate on data.\n",
    "    hist = dist.fit(datagen.flow(x_train, y_train, \n",
    "          batch_size = BATCH_SIZE),\n",
    "          epochs=EPOCHS,\n",
    "          steps_per_epoch = len(x_train)/BATCH_SIZE,\n",
    "          validation_data =(x_test, y_test),\n",
    "          workers =40,\n",
    "          use_multiprocessing= True,\n",
    "          callbacks = [lr_reduce, tensorboard],\n",
    "          )\n",
    "\n",
    "\n",
    "    dist.evaluate(x_test, y_test)\n",
    "    print(\"\")\n",
    "\n",
    "    print(\" =============== History Plot ===============\")\n",
    "    plot_hist_kd(hist, f\"Resnet8_KD_notebook_alpha{a}.png\")\n",
    "\n",
    "\n",
    "    print(\"Saving model \")\n",
    "    student.save(f\"Resnet8_KD_notebook_alpha{a}\")\n",
    "    print(\"Saving Done !\")\n",
    "\n",
    "    print(\"Saving Weights \")\n",
    "    student.save_weights(f\"w_resnet8_alpha_{a}.h5\")\n",
    "    print(\"Saving Done !\")\n",
    "    print(\"\")\n",
    "\n",
    "    print(\"End !\")"
   ]
  },
  {
   "cell_type": "code",
   "execution_count": null,
   "id": "784258b9",
   "metadata": {},
   "outputs": [],
   "source": []
  }
 ],
 "metadata": {
  "kernelspec": {
   "display_name": "Python 3 (ipykernel)",
   "language": "python",
   "name": "python3"
  },
  "language_info": {
   "codemirror_mode": {
    "name": "ipython",
    "version": 3
   },
   "file_extension": ".py",
   "mimetype": "text/x-python",
   "name": "python",
   "nbconvert_exporter": "python",
   "pygments_lexer": "ipython3",
   "version": "3.9.12"
  }
 },
 "nbformat": 4,
 "nbformat_minor": 5
}

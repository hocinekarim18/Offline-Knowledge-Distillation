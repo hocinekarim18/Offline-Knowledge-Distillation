{
  "nbformat": 4,
  "nbformat_minor": 0,
  "metadata": {
    "colab": {
      "name": "Distillation_class.ipynb",
      "provenance": [],
      "collapsed_sections": []
    },
    "kernelspec": {
      "name": "python3",
      "display_name": "Python 3"
    },
    "language_info": {
      "name": "python"
    },
    "accelerator": "GPU"
  },
  "cells": [
    {
      "cell_type": "code",
      "execution_count": 60,
      "metadata": {
        "id": "D2bUt6ga3wzy"
      },
      "outputs": [],
      "source": [
        "import tensorflow as tf\n",
        "import numpy as np\n",
        "import matplotlib.pyplot as plt\n",
        "from PIL import Image\n",
        "\n",
        "%matplotlib inline"
      ]
    },
    {
      "cell_type": "markdown",
      "source": [
        "## Data"
      ],
      "metadata": {
        "id": "P5vmuqjm4SSS"
      }
    },
    {
      "cell_type": "code",
      "source": [
        "# Data loading\n",
        "(x_train, y_train) , (x_test, y_test)= tf.keras.datasets.mnist.load_data()\n",
        "\n",
        "# Normalize data\n",
        "x_train = x_train.astype(\"float32\") / 255.0\n",
        "x_train = np.reshape(x_train, (-1, 28, 28, 1))\n",
        "\n",
        "x_test = x_test.astype(\"float32\") / 255.0\n",
        "x_test = np.reshape(x_test, (-1, 28, 28, 1))\n",
        "\n",
        "\n",
        "\n",
        "print(\"Dimensions des données\")\n",
        "print(\"X_train shape: \", x_train.shape)\n",
        "print(\"X_test shape: \", x_test.shape)\n",
        "print(\"y_train shape: \", y_train.shape)\n",
        "print(\"y_test shape: \", y_test.shape)"
      ],
      "metadata": {
        "id": "2FkVLQJx3-JE",
        "colab": {
          "base_uri": "https://localhost:8080/"
        },
        "outputId": "cf8017ad-ce94-499b-de42-4259aff49bc8"
      },
      "execution_count": 2,
      "outputs": [
        {
          "output_type": "stream",
          "name": "stdout",
          "text": [
            "Downloading data from https://storage.googleapis.com/tensorflow/tf-keras-datasets/mnist.npz\n",
            "11493376/11490434 [==============================] - 0s 0us/step\n",
            "11501568/11490434 [==============================] - 0s 0us/step\n",
            "Dimensions des données\n",
            "X_train shape:  (60000, 28, 28, 1)\n",
            "X_test shape:  (10000, 28, 28, 1)\n",
            "y_train shape:  (60000,)\n",
            "y_test shape:  (10000,)\n"
          ]
        }
      ]
    },
    {
      "cell_type": "markdown",
      "source": [
        "## Distillation class"
      ],
      "metadata": {
        "id": "BJ7-PsvD4T9a"
      }
    },
    {
      "cell_type": "code",
      "source": [
        "class Distiller(tf.keras.Model):\n",
        "  def __init__(self, teacher, student):\n",
        "      super(Distiller, self).__init__()\n",
        "      \n",
        "      # Attributs de la classe Distiller\n",
        "      self.teacher = teacher\n",
        "      self.student = student\n",
        "      \n",
        "  # Compilation du model\n",
        "  def compile( self, optimizer, metrics, distillation_loss_fn, student_loss_fn, alpha = 0.1, temperature= 20):\n",
        "\n",
        "    super(Distiller,self).compile(optimizer = optimizer, metrics= metrics )\n",
        "    # losses\n",
        "    self.distillation_loss_fn = distillation_loss_fn\n",
        "    self.student_loss_fn = student_loss_fn\n",
        "\n",
        "    # Hyperparameters\n",
        "    self.temperature = temperature\n",
        "    self.alpha = alpha\n",
        "  \n",
        "  # Training Step\n",
        "  def train_step(self, data):\n",
        "    # Unpack data\n",
        "    x, y = data\n",
        "\n",
        "    # Forward pass of teacher\n",
        "    teacher_predictions = self.teacher(x, training=False)\n",
        "    with tf.GradientTape() as tape:\n",
        "      # student forward\n",
        "      student_predictions = self.student(x, training= True)\n",
        "\n",
        "      # Compute losses\n",
        "      student_loss = self.student_loss_fn(y, student_predictions)\n",
        "      distillation_loss = self.distillation_loss_fn(\n",
        "          tf.nn.softmax(teacher_predictions / self.temperature, axis=1),\n",
        "          tf.nn.softmax(student_predictions / self.temperature, axis=1),\n",
        "        )\n",
        "\n",
        "      loss = self.alpha * student_loss + (1 - self.alpha) * distillation_loss\n",
        "\n",
        "    # Compute gradients\n",
        "    trainable_vars = self.student.trainable_variables\n",
        "    gradients = tape.gradient(loss, trainable_vars)\n",
        "\n",
        "    # Update weights\n",
        "    self.optimizer.apply_gradients(zip(gradients, trainable_vars))\n",
        "\n",
        "    # Update the metrics configured in `compile()`.\n",
        "    self.compiled_metrics.update_state(y, student_predictions)\n",
        "\n",
        "    # Return a dict of performance\n",
        "    results = {m.name: m.result() for m in self.metrics}\n",
        "    results.update(\n",
        "        {\"student_loss\": student_loss, \"distillation_loss\": distillation_loss}\n",
        "    )\n",
        "    return results\n",
        "\n",
        "  # Test Step\n",
        "  def test_step(self, data):\n",
        "    \n",
        "    # Unpack the data\n",
        "    x, y = data\n",
        "\n",
        "    # Compute predictions\n",
        "    y_prediction = self.student(x, training=False)\n",
        "\n",
        "    # Calculate the loss\n",
        "    student_loss = self.student_loss_fn(y, y_prediction)\n",
        "\n",
        "    # Update the metrics.\n",
        "    self.compiled_metrics.update_state(y, y_prediction)\n",
        "\n",
        "    # Return a dict of performance\n",
        "    results = {m.name: m.result() for m in self.metrics}\n",
        "    results.update({\"student_loss\": student_loss})\n",
        "    return results\n",
        "\n",
        "\n"
      ],
      "metadata": {
        "id": "IfJXFc3y4XMw"
      },
      "execution_count": 3,
      "outputs": []
    },
    {
      "cell_type": "markdown",
      "source": [
        "## Testing the class"
      ],
      "metadata": {
        "id": "gObcAndq4bdv"
      }
    },
    {
      "cell_type": "markdown",
      "source": [
        "### Training the teacher"
      ],
      "metadata": {
        "id": "NnnhrY7v4fDk"
      }
    },
    {
      "cell_type": "code",
      "source": [
        "# Create the teacher\n",
        "teacher = tf.keras.Sequential(\n",
        "    [\n",
        "        tf.keras.Input(shape=(28, 28, 1)),\n",
        "        tf.keras.layers.Conv2D(256, (3, 3), strides=(2, 2), padding=\"same\"),\n",
        "        tf.keras.layers.LeakyReLU(alpha=0.2),\n",
        "        tf.keras.layers.MaxPooling2D(pool_size=(2, 2), strides=(1, 1), padding=\"same\"),\n",
        "        tf.keras.layers.Conv2D(512, (3, 3), strides=(2, 2), padding=\"same\"),\n",
        "        tf.keras.layers.Flatten(),\n",
        "        tf.keras.layers.Dense(10),\n",
        "    ],\n",
        "    name=\"teacher\",\n",
        ")\n",
        "\n",
        "# Create the student\n",
        "student = tf.keras.Sequential(\n",
        "    [\n",
        "        tf.keras.Input(shape=(28, 28, 1)),\n",
        "        tf.keras.layers.Conv2D(16, (3, 3), strides=(2, 2), padding=\"same\"),\n",
        "        tf.keras.layers.LeakyReLU(alpha=0.2),\n",
        "        tf.keras.layers.MaxPooling2D(pool_size=(2, 2), strides=(1, 1), padding=\"same\"),\n",
        "        tf.keras.layers.Conv2D(32, (3, 3), strides=(2, 2), padding=\"same\"),\n",
        "        tf.keras.layers.Flatten(),\n",
        "        tf.keras.layers.Dense(10),\n",
        "    ],\n",
        "    name=\"student\",\n",
        ")\n",
        "\n",
        "# Clone student for later comparison\n",
        "student_scratch = tf.keras.models.clone_model(student)\n"
      ],
      "metadata": {
        "id": "X9SB1pF04eGA"
      },
      "execution_count": 4,
      "outputs": []
    },
    {
      "cell_type": "markdown",
      "source": [
        "## Teacher Training"
      ],
      "metadata": {
        "id": "OdUukzs4VWY1"
      }
    },
    {
      "cell_type": "code",
      "source": [
        "# Paramètres d'entrainement\n",
        "Epochs = 10\n",
        "Batch = 64"
      ],
      "metadata": {
        "id": "GJYzdM2CVevG"
      },
      "execution_count": 5,
      "outputs": []
    },
    {
      "cell_type": "code",
      "source": [
        "# Train teacher as usual\n",
        "teacher.compile(\n",
        "    optimizer=tf.keras.optimizers.Adam(),\n",
        "    loss=tf.keras.losses.SparseCategoricalCrossentropy(from_logits=True),\n",
        "    metrics=[tf.keras.metrics.SparseCategoricalAccuracy()],\n",
        ")\n",
        "teacher.summary()\n",
        "\n",
        "# Train and evaluate teacher on data.\n",
        "Teacher_hist = teacher.fit(x_train, y_train, epochs=Epochs, batch_size = Batch)\n",
        "teacher.evaluate(x_test, y_test)\n"
      ],
      "metadata": {
        "colab": {
          "base_uri": "https://localhost:8080/"
        },
        "id": "Zvdx9G-nFEIR",
        "outputId": "2f565e96-c5f2-4361-ebd5-ca6747366297"
      },
      "execution_count": 6,
      "outputs": [
        {
          "output_type": "stream",
          "name": "stdout",
          "text": [
            "Model: \"teacher\"\n",
            "_________________________________________________________________\n",
            " Layer (type)                Output Shape              Param #   \n",
            "=================================================================\n",
            " conv2d (Conv2D)             (None, 14, 14, 256)       2560      \n",
            "                                                                 \n",
            " leaky_re_lu (LeakyReLU)     (None, 14, 14, 256)       0         \n",
            "                                                                 \n",
            " max_pooling2d (MaxPooling2D  (None, 14, 14, 256)      0         \n",
            " )                                                               \n",
            "                                                                 \n",
            " conv2d_1 (Conv2D)           (None, 7, 7, 512)         1180160   \n",
            "                                                                 \n",
            " flatten (Flatten)           (None, 25088)             0         \n",
            "                                                                 \n",
            " dense (Dense)               (None, 10)                250890    \n",
            "                                                                 \n",
            "=================================================================\n",
            "Total params: 1,433,610\n",
            "Trainable params: 1,433,610\n",
            "Non-trainable params: 0\n",
            "_________________________________________________________________\n",
            "Epoch 1/10\n",
            "938/938 [==============================] - 42s 33ms/step - loss: 0.1460 - sparse_categorical_accuracy: 0.9557\n",
            "Epoch 2/10\n",
            "938/938 [==============================] - 31s 33ms/step - loss: 0.0791 - sparse_categorical_accuracy: 0.9765\n",
            "Epoch 3/10\n",
            "938/938 [==============================] - 31s 33ms/step - loss: 0.0654 - sparse_categorical_accuracy: 0.9803\n",
            "Epoch 4/10\n",
            "938/938 [==============================] - 31s 33ms/step - loss: 0.0609 - sparse_categorical_accuracy: 0.9811\n",
            "Epoch 5/10\n",
            "938/938 [==============================] - 31s 33ms/step - loss: 0.0526 - sparse_categorical_accuracy: 0.9845\n",
            "Epoch 6/10\n",
            "938/938 [==============================] - 31s 33ms/step - loss: 0.0493 - sparse_categorical_accuracy: 0.9847\n",
            "Epoch 7/10\n",
            "938/938 [==============================] - 31s 33ms/step - loss: 0.0451 - sparse_categorical_accuracy: 0.9864\n",
            "Epoch 8/10\n",
            "938/938 [==============================] - 31s 33ms/step - loss: 0.0436 - sparse_categorical_accuracy: 0.9864\n",
            "Epoch 9/10\n",
            "938/938 [==============================] - 31s 33ms/step - loss: 0.0358 - sparse_categorical_accuracy: 0.9891\n",
            "Epoch 10/10\n",
            "938/938 [==============================] - 31s 33ms/step - loss: 0.0376 - sparse_categorical_accuracy: 0.9890\n",
            "313/313 [==============================] - 3s 8ms/step - loss: 0.1485 - sparse_categorical_accuracy: 0.9753\n"
          ]
        },
        {
          "output_type": "execute_result",
          "data": {
            "text/plain": [
              "[0.148451030254364, 0.9753000140190125]"
            ]
          },
          "metadata": {},
          "execution_count": 6
        }
      ]
    },
    {
      "cell_type": "markdown",
      "source": [
        "## Training the student with KD"
      ],
      "metadata": {
        "id": "4hA0-HQI4er-"
      }
    },
    {
      "cell_type": "code",
      "source": [
        "dist = Distiller(teacher, student)\n",
        "dist.compile(\n",
        "    optimizer = tf.keras.optimizers.Adam(),\n",
        "    metrics = [tf.keras.metrics.SparseCategoricalAccuracy()],\n",
        "    distillation_loss_fn = tf.keras.losses.KLDivergence(),\n",
        "    student_loss_fn = tf.keras.losses.SparseCategoricalCrossentropy(from_logits=True),\n",
        "    alpha = 0.1,\n",
        "    temperature = 20)\n",
        "\n",
        "\n",
        "\n",
        "# Distill teacher to student\n",
        "dist_hist = dist.fit(x_train, y_train, epochs=Epochs, batch_size = Batch)\n",
        "\n",
        "# Evaluate student on test dataset\n",
        "dist.evaluate(x_test, y_test)"
      ],
      "metadata": {
        "id": "CTGVU4lq4qNw",
        "colab": {
          "base_uri": "https://localhost:8080/"
        },
        "outputId": "9354c6b2-671c-459c-c3e9-4d420eb74ba7"
      },
      "execution_count": 7,
      "outputs": [
        {
          "output_type": "stream",
          "name": "stdout",
          "text": [
            "Epoch 1/10\n",
            "938/938 [==============================] - 15s 14ms/step - sparse_categorical_accuracy: 0.8884 - student_loss: 0.5680 - distillation_loss: 0.1069\n",
            "Epoch 2/10\n",
            "938/938 [==============================] - 13s 14ms/step - sparse_categorical_accuracy: 0.9568 - student_loss: 0.2330 - distillation_loss: 0.0368\n",
            "Epoch 3/10\n",
            "938/938 [==============================] - 13s 14ms/step - sparse_categorical_accuracy: 0.9679 - student_loss: 0.1683 - distillation_loss: 0.0254\n",
            "Epoch 4/10\n",
            "938/938 [==============================] - 16s 17ms/step - sparse_categorical_accuracy: 0.9736 - student_loss: 0.1329 - distillation_loss: 0.0204\n",
            "Epoch 5/10\n",
            "938/938 [==============================] - 13s 14ms/step - sparse_categorical_accuracy: 0.9765 - student_loss: 0.1139 - distillation_loss: 0.0175\n",
            "Epoch 6/10\n",
            "938/938 [==============================] - 13s 14ms/step - sparse_categorical_accuracy: 0.9788 - student_loss: 0.1021 - distillation_loss: 0.0158\n",
            "Epoch 7/10\n",
            "938/938 [==============================] - 13s 14ms/step - sparse_categorical_accuracy: 0.9800 - student_loss: 0.0940 - distillation_loss: 0.0147\n",
            "Epoch 8/10\n",
            "938/938 [==============================] - 13s 14ms/step - sparse_categorical_accuracy: 0.9808 - student_loss: 0.0875 - distillation_loss: 0.0139\n",
            "Epoch 9/10\n",
            "938/938 [==============================] - 13s 14ms/step - sparse_categorical_accuracy: 0.9821 - student_loss: 0.0821 - distillation_loss: 0.0128\n",
            "Epoch 10/10\n",
            "938/938 [==============================] - 13s 14ms/step - sparse_categorical_accuracy: 0.9829 - student_loss: 0.0750 - distillation_loss: 0.0122\n",
            "313/313 [==============================] - 1s 4ms/step - sparse_categorical_accuracy: 0.9803 - student_loss: 0.0942\n"
          ]
        },
        {
          "output_type": "execute_result",
          "data": {
            "text/plain": [
              "[0.9803000092506409, 0.0005885250284336507]"
            ]
          },
          "metadata": {},
          "execution_count": 7
        }
      ]
    },
    {
      "cell_type": "markdown",
      "source": [
        "## Entraînement standard du student model"
      ],
      "metadata": {
        "id": "DBJ3sSx_VMcl"
      }
    },
    {
      "cell_type": "code",
      "source": [
        "# Training studen model from scratch\n",
        "student_scratch.compile(\n",
        "    optimizer=tf.keras.optimizers.Adam(),\n",
        "    loss=tf.keras.losses.SparseCategoricalCrossentropy(from_logits=True),\n",
        "    metrics=[tf.keras.metrics.SparseCategoricalAccuracy()],\n",
        "  )\n",
        "\n",
        "scrratch_stud_hist = student_scratch.fit(x_train, y_train, epochs=Epochs, batch_size = Batch)\n",
        "\n",
        "# Evaluate student on test dataset\n",
        "student_scratch.evaluate(x_test, y_test)"
      ],
      "metadata": {
        "id": "Tx0IzX8wVgWt",
        "colab": {
          "base_uri": "https://localhost:8080/"
        },
        "outputId": "6e4b940a-a820-4397-d0ee-f90c058ddc9a"
      },
      "execution_count": 9,
      "outputs": [
        {
          "output_type": "stream",
          "name": "stdout",
          "text": [
            "Epoch 1/10\n",
            "938/938 [==============================] - 5s 5ms/step - loss: 0.3007 - sparse_categorical_accuracy: 0.9137\n",
            "Epoch 2/10\n",
            "938/938 [==============================] - 4s 5ms/step - loss: 0.0991 - sparse_categorical_accuracy: 0.9702\n",
            "Epoch 3/10\n",
            "938/938 [==============================] - 5s 5ms/step - loss: 0.0768 - sparse_categorical_accuracy: 0.9765\n",
            "Epoch 4/10\n",
            "938/938 [==============================] - 5s 5ms/step - loss: 0.0685 - sparse_categorical_accuracy: 0.9790\n",
            "Epoch 5/10\n",
            "938/938 [==============================] - 4s 5ms/step - loss: 0.0625 - sparse_categorical_accuracy: 0.9809\n",
            "Epoch 6/10\n",
            "938/938 [==============================] - 5s 5ms/step - loss: 0.0570 - sparse_categorical_accuracy: 0.9821\n",
            "Epoch 7/10\n",
            "938/938 [==============================] - 5s 5ms/step - loss: 0.0530 - sparse_categorical_accuracy: 0.9836\n",
            "Epoch 8/10\n",
            "938/938 [==============================] - 5s 5ms/step - loss: 0.0507 - sparse_categorical_accuracy: 0.9846\n",
            "Epoch 9/10\n",
            "938/938 [==============================] - 5s 5ms/step - loss: 0.0460 - sparse_categorical_accuracy: 0.9858\n",
            "Epoch 10/10\n",
            "938/938 [==============================] - 4s 5ms/step - loss: 0.0437 - sparse_categorical_accuracy: 0.9866\n",
            "313/313 [==============================] - 1s 4ms/step - loss: 0.0540 - sparse_categorical_accuracy: 0.9818\n"
          ]
        },
        {
          "output_type": "execute_result",
          "data": {
            "text/plain": [
              "[0.054002098739147186, 0.9818000197410583]"
            ]
          },
          "metadata": {},
          "execution_count": 9
        }
      ]
    },
    {
      "cell_type": "markdown",
      "source": [
        "## Comparaison du KD et de l'entrainement standard"
      ],
      "metadata": {
        "id": "tZYq2sgCVGkm"
      }
    },
    {
      "cell_type": "code",
      "source": [
        "def plot_hist(los1,los2, accur1, accur2):\n",
        "  plt.figure(figsize= (20,7))\n",
        "  plt.subplot(121)\n",
        "  plt.plot(accur1, label='KD Accuracy')\n",
        "  plt.plot(accur2, label= 'Scratch Accuracy')\n",
        "\n",
        "  plt.xlabel('Epochs')\n",
        "  plt.ylabel('Accuracy')\n",
        "  plt.grid()\n",
        "  plt.legend()\n",
        "\n",
        "\n",
        "  plt.subplot(122)\n",
        "  plt.plot(los1, label='KD Loss')\n",
        "  plt.plot(los2,  label= 'Scratch Loss')\n",
        "  plt.xlabel('Epochs')\n",
        "  plt.ylabel('Loss')\n",
        "\n",
        "  plt.grid()\n",
        "  plt.legend()\n",
        "  plt.show()\n"
      ],
      "metadata": {
        "id": "j9KVbzlAVFye"
      },
      "execution_count": 35,
      "outputs": []
    },
    {
      "cell_type": "code",
      "source": [
        "print(dist_hist.history.keys())\n",
        "print(scrratch_stud_hist.history.keys())"
      ],
      "metadata": {
        "colab": {
          "base_uri": "https://localhost:8080/"
        },
        "id": "TmM6KECsaHgF",
        "outputId": "a1e667f3-9108-428b-a7cd-f59627422af9"
      },
      "execution_count": 36,
      "outputs": [
        {
          "output_type": "stream",
          "name": "stdout",
          "text": [
            "dict_keys(['sparse_categorical_accuracy', 'student_loss', 'distillation_loss'])\n",
            "dict_keys(['loss', 'sparse_categorical_accuracy'])\n"
          ]
        }
      ]
    },
    {
      "cell_type": "code",
      "source": [
        "plot_hist(dist_hist.history['student_loss'], scrratch_stud_hist.history['loss'] ,dist_hist.history['sparse_categorical_accuracy'] , scrratch_stud_hist.history['sparse_categorical_accuracy'])"
      ],
      "metadata": {
        "colab": {
          "base_uri": "https://localhost:8080/",
          "height": 442
        },
        "id": "lXc09L6gYHSF",
        "outputId": "a0e1dcdc-5fa2-40aa-87d4-645ef395a9f6"
      },
      "execution_count": 37,
      "outputs": [
        {
          "output_type": "display_data",
          "data": {
            "text/plain": [
              "<Figure size 1440x504 with 2 Axes>"
            ],
            "image/png": "[encoded data removed]"
          },
          "metadata": {
            "needs_background": "light"
          }
        }
      ]
    }
  ]
}